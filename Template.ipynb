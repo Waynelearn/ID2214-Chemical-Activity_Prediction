{
 "cells": [
  {
   "cell_type": "code",
   "execution_count": 1,
   "id": "a3319ae3-5949-4485-a613-35f6a23bd678",
   "metadata": {},
   "outputs": [],
   "source": [
    "#Same accross all Model Selection notebooks\n",
    "import numpy as np\n",
    "import pandas as pd\n",
    "import matplotlib.pyplot as plt\n",
    "from sklearn.pipeline import Pipeline\n",
    "\n",
    "#Hyperparameter search method, metric: \"roc_auc\"\n",
    "from sklearn.model_selection import GridSearchCV\n",
    "#metric\n",
    "from sklearn.metrics import roc_auc_score as auc\n",
    "\n",
    "#Different for different Model Selection notebooks\n",
    "#preprocessing\n",
    "from sklearn.preprocessing import StandardScaler\n",
    "from sklearn.preprocessing import MinMaxScaler\n",
    "#model\n",
    "from sklearn.neighbors import KNeighborsClassifier"
   ]
  },
  {
   "cell_type": "code",
   "execution_count": 2,
   "id": "4c6a0912-bfa7-4243-8545-96269de53ada",
   "metadata": {},
   "outputs": [],
   "source": [
    "#vvvvvvvvvvvvvv\n",
    "model_name=\"KNeighborsClassifier\"\n",
    "#^^^^^^^^^^^^^^\n",
    "#select the index of file to load\n",
    "\n",
    "\n",
    "train_files=[\"DL_train.csv\", #0\n",
    "             \"Morgan_train.csv\", #1\n",
    "             \"Both_train.csv\"] #2\n",
    "\n",
    "test_files=[\"DL_test.csv\" #0\n",
    "            ,\"Morgan_test.csv\" #1\n",
    "            ,\"Both_test.csv\"] #2\n",
    "\n",
    "dataset_names=[\"DL\", #0\n",
    "               \"Morgan\", #1\n",
    "               \"Both\"] #2\n",
    "\n",
    "#vvvvvvvvvvvvvv\n",
    "data_index=1\n",
    "#^^^^^^^^^^^^^^\n",
    "\n",
    "norm_type = [StandardScaler(), #0\n",
    "             MinMaxScaler()]  #1\n",
    "norm_names=[\"Standard-Scaler\",\"Min-Max\"]\n",
    "\n",
    "\n",
    "\n",
    "#vvvvvvvvvvvvvv\n",
    "norm_index=0\n",
    "#^^^^^^^^^^^^^^\n",
    "\n",
    "models=[\n",
    "    KNeighborsClassifier,#0\n",
    "    \n",
    "]\n",
    "\n",
    "model_calls=[m() for m in models]\n",
    "\n",
    "\n",
    "#vvvvvvvvvvvvvv\n",
    "model_index=0\n",
    "#^^^^^^^^^^^^^^\n",
    "\n",
    "#vvvvvvvvvvvvvv\n",
    "param_grid = {\n",
    "    \"model__n_neighbors\":[1,2]\n",
    "}\n",
    "#^^^^^^^^^^^^^^\n",
    "\n"
   ]
  },
  {
   "cell_type": "markdown",
   "id": "27badbba-40dd-49af-855b-de31aca1e18c",
   "metadata": {},
   "source": [
    "# 1. Import the train and test datasets *"
   ]
  },
  {
   "cell_type": "code",
   "execution_count": 3,
   "id": "5dce1ed4-bc8f-4fba-8132-4ccdec65fe10",
   "metadata": {},
   "outputs": [],
   "source": [
    "\n",
    "\n",
    "dataset_name=dataset_names[data_index]\n",
    "norm_name=norm_names[norm_index]\n",
    "#check dataset if there is a index col, id there is include the argument index_col=0\n",
    "x_train = pd.read_csv(train_files[data_index],index_col=0)\n",
    "y_train = x_train.ACTIVE\n",
    "x_train.drop([\"ACTIVE\"],axis=1,inplace=True)\n",
    "x_test = pd.read_csv(test_files[data_index],index_col=0) "
   ]
  },
  {
   "cell_type": "markdown",
   "id": "456b0ae3-c203-4ea8-95e3-04082d407e7d",
   "metadata": {},
   "source": [
    "# 2. Setup Pipeline *"
   ]
  },
  {
   "cell_type": "code",
   "execution_count": 4,
   "id": "e32c4bdd-853d-4bdb-a5aa-d05a21fa3add",
   "metadata": {},
   "outputs": [],
   "source": [
    "#Step 1: Normalise the data\n",
    "\n",
    "#Step 2: Model fit\n",
    "\n",
    "\n",
    "#Step 3: Pipeline\n",
    "pipeline=Pipeline(steps=[(\"norm\",norm_type[norm_index]),(\"model\",model_calls[model_index])])"
   ]
  },
  {
   "cell_type": "markdown",
   "id": "c1f0598d-8ea1-40eb-85fe-dbebfb899b6a",
   "metadata": {},
   "source": [
    "# 3. Setup Parameter Grid *"
   ]
  },
  {
   "cell_type": "code",
   "execution_count": 5,
   "id": "77c59694-a201-43bb-b13a-76fd8d3dcd74",
   "metadata": {},
   "outputs": [
    {
     "data": {
      "text/plain": [
       "{'model__n_neighbors': [1, 2]}"
      ]
     },
     "execution_count": 5,
     "metadata": {},
     "output_type": "execute_result"
    }
   ],
   "source": [
    "param_grid"
   ]
  },
  {
   "cell_type": "markdown",
   "id": "87bad7d7-81c1-430e-8742-c68999a26725",
   "metadata": {},
   "source": [
    "# 4. Setup GridSearch"
   ]
  },
  {
   "cell_type": "code",
   "execution_count": 6,
   "id": "417adba2-d1aa-4c39-bf0d-d50b73e43bb1",
   "metadata": {},
   "outputs": [
    {
     "ename": "TypeError",
     "evalue": "__init__() got an unexpected keyword argument 'random_state'",
     "output_type": "error",
     "traceback": [
      "\u001b[1;31m---------------------------------------------------------------------------\u001b[0m",
      "\u001b[1;31mTypeError\u001b[0m                                 Traceback (most recent call last)",
      "Cell \u001b[1;32mIn [6], line 2\u001b[0m\n\u001b[0;32m      1\u001b[0m score_metric \u001b[38;5;241m=\u001b[39m \u001b[38;5;124m\"\u001b[39m\u001b[38;5;124mroc_auc\u001b[39m\u001b[38;5;124m\"\u001b[39m\n\u001b[1;32m----> 2\u001b[0m search \u001b[38;5;241m=\u001b[39m \u001b[43mGridSearchCV\u001b[49m\u001b[43m(\u001b[49m\u001b[43mpipeline\u001b[49m\u001b[43m,\u001b[49m\u001b[43mparam_grid\u001b[49m\u001b[43m,\u001b[49m\n\u001b[0;32m      3\u001b[0m \u001b[43m                      \u001b[49m\u001b[43mn_jobs\u001b[49m\u001b[38;5;241;43m=\u001b[39;49m\u001b[38;5;241;43m-\u001b[39;49m\u001b[38;5;241;43m1\u001b[39;49m\u001b[43m,\u001b[49m\n\u001b[0;32m      4\u001b[0m \u001b[43m                      \u001b[49m\u001b[43mcv\u001b[49m\u001b[38;5;241;43m=\u001b[39;49m\u001b[38;5;241;43m10\u001b[39;49m\u001b[43m,\u001b[49m\n\u001b[0;32m      5\u001b[0m \u001b[43m                      \u001b[49m\u001b[43mscoring\u001b[49m\u001b[38;5;241;43m=\u001b[39;49m\u001b[43mscore_metric\u001b[49m\u001b[43m,\u001b[49m\n\u001b[0;32m      6\u001b[0m \u001b[43m                     \u001b[49m\u001b[43mrandom_state\u001b[49m\u001b[38;5;241;43m=\u001b[39;49m\u001b[38;5;241;43m0\u001b[39;49m\u001b[43m)\u001b[49m\n",
      "\u001b[1;31mTypeError\u001b[0m: __init__() got an unexpected keyword argument 'random_state'"
     ]
    }
   ],
   "source": [
    "score_metric = \"roc_auc\"\n",
    "search = GridSearchCV(pipeline,param_grid,\n",
    "                      n_jobs=-1,\n",
    "                      cv=10,\n",
    "                      scoring=score_metric,\n",
    "                     )\n"
   ]
  },
  {
   "cell_type": "code",
   "execution_count": null,
   "id": "07c04dbc-9ca0-4ffc-b5d9-3949e77950ef",
   "metadata": {},
   "outputs": [],
   "source": [
    "search.fit(x_train,y_train)"
   ]
  },
  {
   "cell_type": "code",
   "execution_count": null,
   "id": "991961c0-e522-4a16-b445-bca480c10bce",
   "metadata": {},
   "outputs": [],
   "source": [
    "print(\"Best parameter (CV score=%0.3f):\" % search.best_score_)\n",
    "print(search.best_params_)"
   ]
  },
  {
   "cell_type": "code",
   "execution_count": null,
   "id": "cfc80737-10b0-46e4-a7fb-f2e65180bdf7",
   "metadata": {},
   "outputs": [],
   "source": [
    "search_res = pd.DataFrame(search.cv_results_)\n",
    "search_res = search_res.sort_values(by=['rank_test_score'])\n",
    "search_res.head()"
   ]
  },
  {
   "cell_type": "markdown",
   "id": "22ee6e52-f224-4a7d-93d6-4b1b4ac6577a",
   "metadata": {},
   "source": [
    "# 5.Estimation of Model Performance based on CV in GridSearch"
   ]
  },
  {
   "cell_type": "code",
   "execution_count": null,
   "id": "8f49a403-f359-4b9c-bbcc-56f80a06775a",
   "metadata": {},
   "outputs": [],
   "source": [
    "estimated_auc = float(search_res.query(\"rank_test_score == 1\").mean_test_score)"
   ]
  },
  {
   "cell_type": "markdown",
   "id": "4225023f-cfe3-4a2e-a03a-a5d3465bb507",
   "metadata": {},
   "source": [
    "# 6.Best Hyperparameter *"
   ]
  },
  {
   "cell_type": "code",
   "execution_count": null,
   "id": "ba8c9e6e-0e72-403c-9150-119a9bc4bf21",
   "metadata": {},
   "outputs": [],
   "source": [
    "parms = search_res.query(\"rank_test_score == 1\").params"
   ]
  },
  {
   "cell_type": "code",
   "execution_count": null,
   "id": "29ed5154-ba6f-4c2f-af25-cea8ddf0b49b",
   "metadata": {},
   "outputs": [],
   "source": [
    "parms"
   ]
  },
  {
   "cell_type": "code",
   "execution_count": null,
   "id": "6f9e70c3-37da-48d5-aec3-80ee647fe951",
   "metadata": {},
   "outputs": [],
   "source": [
    "parms.values"
   ]
  },
  {
   "cell_type": "code",
   "execution_count": null,
   "id": "959b1259-74e2-47eb-b059-9fe275599180",
   "metadata": {},
   "outputs": [],
   "source": [
    "n_neighbors = parms.values[0][\"model__n_neighbors\"]\n",
    "n_neighbors"
   ]
  },
  {
   "cell_type": "markdown",
   "id": "00e6b0a0-5760-499a-81c5-ebe6d44efce5",
   "metadata": {},
   "source": [
    "# 7.Train model on full train dataset"
   ]
  },
  {
   "cell_type": "code",
   "execution_count": null,
   "id": "b5ef99cd-fc1a-40b8-90e2-5f1b123cb070",
   "metadata": {},
   "outputs": [],
   "source": [
    "full_model = models[model_index](n_neighbors=n_neighbors)"
   ]
  },
  {
   "cell_type": "code",
   "execution_count": null,
   "id": "6926bd31-7455-4e73-83de-72e91050801e",
   "metadata": {},
   "outputs": [],
   "source": [
    "full_model.fit(x_train,y_train)"
   ]
  },
  {
   "cell_type": "markdown",
   "id": "41455b81-7427-4254-9312-5c5b56b63ff3",
   "metadata": {},
   "source": [
    "# 8.Prediction score for test dataset"
   ]
  },
  {
   "cell_type": "code",
   "execution_count": null,
   "id": "bc35d4b0-8153-4dd6-a33a-ba60aaebc90d",
   "metadata": {},
   "outputs": [],
   "source": [
    "pred_test = pd.DataFrame(full_model.predict_proba(x_test))[1]\n"
   ]
  },
  {
   "cell_type": "code",
   "execution_count": null,
   "id": "ee916a3a-d1cf-403b-a812-a7d8c0cd1738",
   "metadata": {},
   "outputs": [],
   "source": [
    "pred_test.head()"
   ]
  },
  {
   "cell_type": "markdown",
   "id": "e099a35f-47e1-4783-931d-1ae73e7bc2f7",
   "metadata": {},
   "source": [
    "# 9.Export result"
   ]
  },
  {
   "cell_type": "code",
   "execution_count": null,
   "id": "bc3b47a0-a3c3-4867-8f1e-f3273294b325",
   "metadata": {},
   "outputs": [],
   "source": [
    "result = pd.DataFrame([estimated_auc,])"
   ]
  },
  {
   "cell_type": "code",
   "execution_count": null,
   "id": "16409304-5789-4de5-964d-00056a911e77",
   "metadata": {},
   "outputs": [],
   "source": [
    "result.head()"
   ]
  },
  {
   "cell_type": "code",
   "execution_count": null,
   "id": "8d070178-fa9f-4842-82fc-20e03607842f",
   "metadata": {},
   "outputs": [],
   "source": [
    "result = pd.concat([result,pred_test])"
   ]
  },
  {
   "cell_type": "code",
   "execution_count": null,
   "id": "8edacf60-5582-4f16-a752-991a10bc9627",
   "metadata": {},
   "outputs": [],
   "source": [
    "result.head()"
   ]
  },
  {
   "cell_type": "code",
   "execution_count": null,
   "id": "d4c77dad-2c88-40b4-b9d9-a45560488281",
   "metadata": {},
   "outputs": [],
   "source": [
    "result.to_csv(f\"{model_name}_{norm_name=n}_{dataset_name}_Result.csv\")"
   ]
  },
  {
   "cell_type": "code",
   "execution_count": null,
   "id": "71d4b06b-45fa-4666-ba2e-e6fb3390efa9",
   "metadata": {},
   "outputs": [],
   "source": []
  }
 ],
 "metadata": {
  "kernelspec": {
   "display_name": "Python 3 (ipykernel)",
   "language": "python",
   "name": "python3"
  },
  "language_info": {
   "codemirror_mode": {
    "name": "ipython",
    "version": 3
   },
   "file_extension": ".py",
   "mimetype": "text/x-python",
   "name": "python",
   "nbconvert_exporter": "python",
   "pygments_lexer": "ipython3",
   "version": "3.9.0"
  }
 },
 "nbformat": 4,
 "nbformat_minor": 5
}
