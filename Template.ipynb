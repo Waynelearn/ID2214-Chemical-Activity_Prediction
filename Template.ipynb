{
 "cells": [
  {
   "cell_type": "code",
   "execution_count": 1,
   "id": "a3319ae3-5949-4485-a613-35f6a23bd678",
   "metadata": {},
   "outputs": [],
   "source": [
    "#Same accross all Model Selection notebooks\n",
    "import numpy as np\n",
    "import pandas as pd\n",
    "import matplotlib.pyplot as plt\n",
    "from sklearn.pipeline import Pipeline\n",
    "\n",
    "#Hyperparameter search method, metric: \"roc_auc\"\n",
    "from sklearn.model_selection import GridSearchCV\n",
    "#metric\n",
    "from sklearn.metrics import roc_auc_score as auc\n",
    "\n",
    "#Different for different Model Selection notebooks\n",
    "#preprocessing\n",
    "from sklearn.preprocessing import StandardScaler\n",
    "from sklearn.preprocessing import MinMaxScaler\n",
    "#model\n",
    "from sklearn.neighbors import KNeighborsClassifier"
   ]
  },
  {
   "cell_type": "code",
   "execution_count": 2,
   "id": "4c6a0912-bfa7-4243-8545-96269de53ada",
   "metadata": {},
   "outputs": [],
   "source": [
    "model_name=\"KNeighborsClassifier\""
   ]
  },
  {
   "cell_type": "markdown",
   "id": "27badbba-40dd-49af-855b-de31aca1e18c",
   "metadata": {},
   "source": [
    "# 1. Import the train and test datasets *"
   ]
  },
  {
   "cell_type": "code",
   "execution_count": 3,
   "id": "5dce1ed4-bc8f-4fba-8132-4ccdec65fe10",
   "metadata": {},
   "outputs": [],
   "source": [
    "#select the index of file to load\n",
    "data_index=1\n",
    "\n",
    "train_files=[\"DL_train.csv\",\"Morgan_train.csv\",\"Both_train.csv\"]\n",
    "test_files=[\"DL_test.csv\",\"Morgan_test.csv\",\"Both_test.csv\"]\n",
    "dataset_names=[\"DL\",\"Morgan\",\"Both\"]\n",
    "dataset_name=dataset_names[data_index]\n",
    "#check dataset if there is a index col, id there is include the argument index_col=0\n",
    "x_train = pd.read_csv(train_files[data_index],index_col=0)\n",
    "y_train = x_train.ACTIVE\n",
    "x_train.drop([\"ACTIVE\"],axis=1,inplace=True)\n",
    "x_test = pd.read_csv(test_files[data_index],index_col=0) "
   ]
  },
  {
   "cell_type": "markdown",
   "id": "456b0ae3-c203-4ea8-95e3-04082d407e7d",
   "metadata": {},
   "source": [
    "# 2. Setup Pipeline *"
   ]
  },
  {
   "cell_type": "code",
   "execution_count": 4,
   "id": "e32c4bdd-853d-4bdb-a5aa-d05a21fa3add",
   "metadata": {},
   "outputs": [],
   "source": [
    "#Step 1: Normalise the data\n",
    "norm_index=0\n",
    "norm_type = [StandardScaler(),MinMaxScaler()] \n",
    "#Step 2: Model fit\n",
    "model_index=0\n",
    "models=[KNeighborsClassifier(),]\n",
    "#Step 3: Pipeline\n",
    "pipeline=Pipeline(steps=[(\"norm\",norm_type[norm_index]),(\"model\",models[model_index])])"
   ]
  },
  {
   "cell_type": "markdown",
   "id": "c1f0598d-8ea1-40eb-85fe-dbebfb899b6a",
   "metadata": {},
   "source": [
    "# 3. Setup Parameter Grid *"
   ]
  },
  {
   "cell_type": "code",
   "execution_count": 5,
   "id": "77c59694-a201-43bb-b13a-76fd8d3dcd74",
   "metadata": {},
   "outputs": [],
   "source": [
    "param_grid = {\n",
    "    \"model__n_neighbors\":[1,4]\n",
    "}"
   ]
  },
  {
   "cell_type": "markdown",
   "id": "87bad7d7-81c1-430e-8742-c68999a26725",
   "metadata": {},
   "source": [
    "# 4. setup GridSearch"
   ]
  },
  {
   "cell_type": "code",
   "execution_count": 6,
   "id": "417adba2-d1aa-4c39-bf0d-d50b73e43bb1",
   "metadata": {},
   "outputs": [],
   "source": [
    "score_metric = \"roc_auc\"\n",
    "search = GridSearchCV(pipeline,param_grid,\n",
    "                      n_jobs=-1,\n",
    "                      cv=10,\n",
    "                      scoring=score_metric)\n"
   ]
  },
  {
   "cell_type": "code",
   "execution_count": 7,
   "id": "07c04dbc-9ca0-4ffc-b5d9-3949e77950ef",
   "metadata": {},
   "outputs": [
    {
     "data": {
      "text/html": [
       "<style>#sk-container-id-1 {color: black;background-color: white;}#sk-container-id-1 pre{padding: 0;}#sk-container-id-1 div.sk-toggleable {background-color: white;}#sk-container-id-1 label.sk-toggleable__label {cursor: pointer;display: block;width: 100%;margin-bottom: 0;padding: 0.3em;box-sizing: border-box;text-align: center;}#sk-container-id-1 label.sk-toggleable__label-arrow:before {content: \"▸\";float: left;margin-right: 0.25em;color: #696969;}#sk-container-id-1 label.sk-toggleable__label-arrow:hover:before {color: black;}#sk-container-id-1 div.sk-estimator:hover label.sk-toggleable__label-arrow:before {color: black;}#sk-container-id-1 div.sk-toggleable__content {max-height: 0;max-width: 0;overflow: hidden;text-align: left;background-color: #f0f8ff;}#sk-container-id-1 div.sk-toggleable__content pre {margin: 0.2em;color: black;border-radius: 0.25em;background-color: #f0f8ff;}#sk-container-id-1 input.sk-toggleable__control:checked~div.sk-toggleable__content {max-height: 200px;max-width: 100%;overflow: auto;}#sk-container-id-1 input.sk-toggleable__control:checked~label.sk-toggleable__label-arrow:before {content: \"▾\";}#sk-container-id-1 div.sk-estimator input.sk-toggleable__control:checked~label.sk-toggleable__label {background-color: #d4ebff;}#sk-container-id-1 div.sk-label input.sk-toggleable__control:checked~label.sk-toggleable__label {background-color: #d4ebff;}#sk-container-id-1 input.sk-hidden--visually {border: 0;clip: rect(1px 1px 1px 1px);clip: rect(1px, 1px, 1px, 1px);height: 1px;margin: -1px;overflow: hidden;padding: 0;position: absolute;width: 1px;}#sk-container-id-1 div.sk-estimator {font-family: monospace;background-color: #f0f8ff;border: 1px dotted black;border-radius: 0.25em;box-sizing: border-box;margin-bottom: 0.5em;}#sk-container-id-1 div.sk-estimator:hover {background-color: #d4ebff;}#sk-container-id-1 div.sk-parallel-item::after {content: \"\";width: 100%;border-bottom: 1px solid gray;flex-grow: 1;}#sk-container-id-1 div.sk-label:hover label.sk-toggleable__label {background-color: #d4ebff;}#sk-container-id-1 div.sk-serial::before {content: \"\";position: absolute;border-left: 1px solid gray;box-sizing: border-box;top: 0;bottom: 0;left: 50%;z-index: 0;}#sk-container-id-1 div.sk-serial {display: flex;flex-direction: column;align-items: center;background-color: white;padding-right: 0.2em;padding-left: 0.2em;position: relative;}#sk-container-id-1 div.sk-item {position: relative;z-index: 1;}#sk-container-id-1 div.sk-parallel {display: flex;align-items: stretch;justify-content: center;background-color: white;position: relative;}#sk-container-id-1 div.sk-item::before, #sk-container-id-1 div.sk-parallel-item::before {content: \"\";position: absolute;border-left: 1px solid gray;box-sizing: border-box;top: 0;bottom: 0;left: 50%;z-index: -1;}#sk-container-id-1 div.sk-parallel-item {display: flex;flex-direction: column;z-index: 1;position: relative;background-color: white;}#sk-container-id-1 div.sk-parallel-item:first-child::after {align-self: flex-end;width: 50%;}#sk-container-id-1 div.sk-parallel-item:last-child::after {align-self: flex-start;width: 50%;}#sk-container-id-1 div.sk-parallel-item:only-child::after {width: 0;}#sk-container-id-1 div.sk-dashed-wrapped {border: 1px dashed gray;margin: 0 0.4em 0.5em 0.4em;box-sizing: border-box;padding-bottom: 0.4em;background-color: white;}#sk-container-id-1 div.sk-label label {font-family: monospace;font-weight: bold;display: inline-block;line-height: 1.2em;}#sk-container-id-1 div.sk-label-container {text-align: center;}#sk-container-id-1 div.sk-container {/* jupyter's `normalize.less` sets `[hidden] { display: none; }` but bootstrap.min.css set `[hidden] { display: none !important; }` so we also need the `!important` here to be able to override the default hidden behavior on the sphinx rendered scikit-learn.org. See: https://github.com/scikit-learn/scikit-learn/issues/21755 */display: inline-block !important;position: relative;}#sk-container-id-1 div.sk-text-repr-fallback {display: none;}</style><div id=\"sk-container-id-1\" class=\"sk-top-container\"><div class=\"sk-text-repr-fallback\"><pre>GridSearchCV(cv=10,\n",
       "             estimator=Pipeline(steps=[(&#x27;norm&#x27;, StandardScaler()),\n",
       "                                       (&#x27;model&#x27;, KNeighborsClassifier())]),\n",
       "             n_jobs=-1, param_grid={&#x27;model__n_neighbors&#x27;: [1, 4]},\n",
       "             scoring=&#x27;roc_auc&#x27;)</pre><b>In a Jupyter environment, please rerun this cell to show the HTML representation or trust the notebook. <br />On GitHub, the HTML representation is unable to render, please try loading this page with nbviewer.org.</b></div><div class=\"sk-container\" hidden><div class=\"sk-item sk-dashed-wrapped\"><div class=\"sk-label-container\"><div class=\"sk-label sk-toggleable\"><input class=\"sk-toggleable__control sk-hidden--visually\" id=\"sk-estimator-id-1\" type=\"checkbox\" ><label for=\"sk-estimator-id-1\" class=\"sk-toggleable__label sk-toggleable__label-arrow\">GridSearchCV</label><div class=\"sk-toggleable__content\"><pre>GridSearchCV(cv=10,\n",
       "             estimator=Pipeline(steps=[(&#x27;norm&#x27;, StandardScaler()),\n",
       "                                       (&#x27;model&#x27;, KNeighborsClassifier())]),\n",
       "             n_jobs=-1, param_grid={&#x27;model__n_neighbors&#x27;: [1, 4]},\n",
       "             scoring=&#x27;roc_auc&#x27;)</pre></div></div></div><div class=\"sk-parallel\"><div class=\"sk-parallel-item\"><div class=\"sk-item\"><div class=\"sk-label-container\"><div class=\"sk-label sk-toggleable\"><input class=\"sk-toggleable__control sk-hidden--visually\" id=\"sk-estimator-id-2\" type=\"checkbox\" ><label for=\"sk-estimator-id-2\" class=\"sk-toggleable__label sk-toggleable__label-arrow\">estimator: Pipeline</label><div class=\"sk-toggleable__content\"><pre>Pipeline(steps=[(&#x27;norm&#x27;, StandardScaler()), (&#x27;model&#x27;, KNeighborsClassifier())])</pre></div></div></div><div class=\"sk-serial\"><div class=\"sk-item\"><div class=\"sk-serial\"><div class=\"sk-item\"><div class=\"sk-estimator sk-toggleable\"><input class=\"sk-toggleable__control sk-hidden--visually\" id=\"sk-estimator-id-3\" type=\"checkbox\" ><label for=\"sk-estimator-id-3\" class=\"sk-toggleable__label sk-toggleable__label-arrow\">StandardScaler</label><div class=\"sk-toggleable__content\"><pre>StandardScaler()</pre></div></div></div><div class=\"sk-item\"><div class=\"sk-estimator sk-toggleable\"><input class=\"sk-toggleable__control sk-hidden--visually\" id=\"sk-estimator-id-4\" type=\"checkbox\" ><label for=\"sk-estimator-id-4\" class=\"sk-toggleable__label sk-toggleable__label-arrow\">KNeighborsClassifier</label><div class=\"sk-toggleable__content\"><pre>KNeighborsClassifier()</pre></div></div></div></div></div></div></div></div></div></div></div></div>"
      ],
      "text/plain": [
       "GridSearchCV(cv=10,\n",
       "             estimator=Pipeline(steps=[('norm', StandardScaler()),\n",
       "                                       ('model', KNeighborsClassifier())]),\n",
       "             n_jobs=-1, param_grid={'model__n_neighbors': [1, 4]},\n",
       "             scoring='roc_auc')"
      ]
     },
     "execution_count": 7,
     "metadata": {},
     "output_type": "execute_result"
    }
   ],
   "source": [
    "search.fit(x_train,y_train)"
   ]
  },
  {
   "cell_type": "code",
   "execution_count": 8,
   "id": "991961c0-e522-4a16-b445-bca480c10bce",
   "metadata": {},
   "outputs": [
    {
     "name": "stdout",
     "output_type": "stream",
     "text": [
      "Best parameter (CV score=0.640):\n",
      "{'model__n_neighbors': 4}\n"
     ]
    }
   ],
   "source": [
    "print(\"Best parameter (CV score=%0.3f):\" % search.best_score_)\n",
    "print(search.best_params_)"
   ]
  },
  {
   "cell_type": "code",
   "execution_count": 9,
   "id": "cfc80737-10b0-46e4-a7fb-f2e65180bdf7",
   "metadata": {},
   "outputs": [
    {
     "data": {
      "text/html": [
       "<div>\n",
       "<style scoped>\n",
       "    .dataframe tbody tr th:only-of-type {\n",
       "        vertical-align: middle;\n",
       "    }\n",
       "\n",
       "    .dataframe tbody tr th {\n",
       "        vertical-align: top;\n",
       "    }\n",
       "\n",
       "    .dataframe thead th {\n",
       "        text-align: right;\n",
       "    }\n",
       "</style>\n",
       "<table border=\"1\" class=\"dataframe\">\n",
       "  <thead>\n",
       "    <tr style=\"text-align: right;\">\n",
       "      <th></th>\n",
       "      <th>mean_fit_time</th>\n",
       "      <th>std_fit_time</th>\n",
       "      <th>mean_score_time</th>\n",
       "      <th>std_score_time</th>\n",
       "      <th>param_model__n_neighbors</th>\n",
       "      <th>params</th>\n",
       "      <th>split0_test_score</th>\n",
       "      <th>split1_test_score</th>\n",
       "      <th>split2_test_score</th>\n",
       "      <th>split3_test_score</th>\n",
       "      <th>split4_test_score</th>\n",
       "      <th>split5_test_score</th>\n",
       "      <th>split6_test_score</th>\n",
       "      <th>split7_test_score</th>\n",
       "      <th>split8_test_score</th>\n",
       "      <th>split9_test_score</th>\n",
       "      <th>mean_test_score</th>\n",
       "      <th>std_test_score</th>\n",
       "      <th>rank_test_score</th>\n",
       "    </tr>\n",
       "  </thead>\n",
       "  <tbody>\n",
       "    <tr>\n",
       "      <th>1</th>\n",
       "      <td>1.032729</td>\n",
       "      <td>0.074167</td>\n",
       "      <td>42.334902</td>\n",
       "      <td>12.143783</td>\n",
       "      <td>4</td>\n",
       "      <td>{'model__n_neighbors': 4}</td>\n",
       "      <td>0.646232</td>\n",
       "      <td>0.635566</td>\n",
       "      <td>0.638394</td>\n",
       "      <td>0.637981</td>\n",
       "      <td>0.637241</td>\n",
       "      <td>0.632498</td>\n",
       "      <td>0.661617</td>\n",
       "      <td>0.637744</td>\n",
       "      <td>0.634719</td>\n",
       "      <td>0.638405</td>\n",
       "      <td>0.640040</td>\n",
       "      <td>0.007949</td>\n",
       "      <td>1</td>\n",
       "    </tr>\n",
       "    <tr>\n",
       "      <th>0</th>\n",
       "      <td>1.566222</td>\n",
       "      <td>0.223954</td>\n",
       "      <td>53.927585</td>\n",
       "      <td>0.894468</td>\n",
       "      <td>1</td>\n",
       "      <td>{'model__n_neighbors': 1}</td>\n",
       "      <td>0.591978</td>\n",
       "      <td>0.583405</td>\n",
       "      <td>0.586101</td>\n",
       "      <td>0.586522</td>\n",
       "      <td>0.571618</td>\n",
       "      <td>0.589088</td>\n",
       "      <td>0.622961</td>\n",
       "      <td>0.571035</td>\n",
       "      <td>0.591752</td>\n",
       "      <td>0.591946</td>\n",
       "      <td>0.588641</td>\n",
       "      <td>0.013594</td>\n",
       "      <td>2</td>\n",
       "    </tr>\n",
       "  </tbody>\n",
       "</table>\n",
       "</div>"
      ],
      "text/plain": [
       "   mean_fit_time  std_fit_time  mean_score_time  std_score_time  \\\n",
       "1       1.032729      0.074167        42.334902       12.143783   \n",
       "0       1.566222      0.223954        53.927585        0.894468   \n",
       "\n",
       "  param_model__n_neighbors                     params  split0_test_score  \\\n",
       "1                        4  {'model__n_neighbors': 4}           0.646232   \n",
       "0                        1  {'model__n_neighbors': 1}           0.591978   \n",
       "\n",
       "   split1_test_score  split2_test_score  split3_test_score  split4_test_score  \\\n",
       "1           0.635566           0.638394           0.637981           0.637241   \n",
       "0           0.583405           0.586101           0.586522           0.571618   \n",
       "\n",
       "   split5_test_score  split6_test_score  split7_test_score  split8_test_score  \\\n",
       "1           0.632498           0.661617           0.637744           0.634719   \n",
       "0           0.589088           0.622961           0.571035           0.591752   \n",
       "\n",
       "   split9_test_score  mean_test_score  std_test_score  rank_test_score  \n",
       "1           0.638405         0.640040        0.007949                1  \n",
       "0           0.591946         0.588641        0.013594                2  "
      ]
     },
     "execution_count": 9,
     "metadata": {},
     "output_type": "execute_result"
    }
   ],
   "source": [
    "search_res = pd.DataFrame(search.cv_results_)\n",
    "search_res = search_res.sort_values(by=['rank_test_score'])\n",
    "search_res.head()"
   ]
  },
  {
   "cell_type": "markdown",
   "id": "22ee6e52-f224-4a7d-93d6-4b1b4ac6577a",
   "metadata": {},
   "source": [
    "# 5.Estimation of Model Performance based on CV in GridSearch"
   ]
  },
  {
   "cell_type": "code",
   "execution_count": 37,
   "id": "8f49a403-f359-4b9c-bbcc-56f80a06775a",
   "metadata": {},
   "outputs": [],
   "source": [
    "estimated_auc = float(search_res.query(\"rank_test_score == 1\").mean_test_score)"
   ]
  },
  {
   "cell_type": "markdown",
   "id": "4225023f-cfe3-4a2e-a03a-a5d3465bb507",
   "metadata": {},
   "source": [
    "# 6.Best Hyperparameter"
   ]
  },
  {
   "cell_type": "code",
   "execution_count": 11,
   "id": "ba8c9e6e-0e72-403c-9150-119a9bc4bf21",
   "metadata": {},
   "outputs": [],
   "source": [
    "parms = search_res.query(\"rank_test_score == 1\").params"
   ]
  },
  {
   "cell_type": "code",
   "execution_count": 13,
   "id": "29ed5154-ba6f-4c2f-af25-cea8ddf0b49b",
   "metadata": {},
   "outputs": [
    {
     "data": {
      "text/plain": [
       "1    {'model__n_neighbors': 4}\n",
       "Name: params, dtype: object"
      ]
     },
     "execution_count": 13,
     "metadata": {},
     "output_type": "execute_result"
    }
   ],
   "source": [
    "parms"
   ]
  },
  {
   "cell_type": "code",
   "execution_count": 14,
   "id": "959b1259-74e2-47eb-b059-9fe275599180",
   "metadata": {},
   "outputs": [],
   "source": [
    "n_neighbors = parms[1][\"model__n_neighbors\"]"
   ]
  },
  {
   "cell_type": "markdown",
   "id": "00e6b0a0-5760-499a-81c5-ebe6d44efce5",
   "metadata": {},
   "source": [
    "# 7.Train model on full train dataset"
   ]
  },
  {
   "cell_type": "code",
   "execution_count": 18,
   "id": "b5ef99cd-fc1a-40b8-90e2-5f1b123cb070",
   "metadata": {},
   "outputs": [],
   "source": [
    "full_model = KNeighborsClassifier(n_neighbors=n_neighbors)"
   ]
  },
  {
   "cell_type": "code",
   "execution_count": 19,
   "id": "6926bd31-7455-4e73-83de-72e91050801e",
   "metadata": {},
   "outputs": [
    {
     "data": {
      "text/html": [
       "<style>#sk-container-id-2 {color: black;background-color: white;}#sk-container-id-2 pre{padding: 0;}#sk-container-id-2 div.sk-toggleable {background-color: white;}#sk-container-id-2 label.sk-toggleable__label {cursor: pointer;display: block;width: 100%;margin-bottom: 0;padding: 0.3em;box-sizing: border-box;text-align: center;}#sk-container-id-2 label.sk-toggleable__label-arrow:before {content: \"▸\";float: left;margin-right: 0.25em;color: #696969;}#sk-container-id-2 label.sk-toggleable__label-arrow:hover:before {color: black;}#sk-container-id-2 div.sk-estimator:hover label.sk-toggleable__label-arrow:before {color: black;}#sk-container-id-2 div.sk-toggleable__content {max-height: 0;max-width: 0;overflow: hidden;text-align: left;background-color: #f0f8ff;}#sk-container-id-2 div.sk-toggleable__content pre {margin: 0.2em;color: black;border-radius: 0.25em;background-color: #f0f8ff;}#sk-container-id-2 input.sk-toggleable__control:checked~div.sk-toggleable__content {max-height: 200px;max-width: 100%;overflow: auto;}#sk-container-id-2 input.sk-toggleable__control:checked~label.sk-toggleable__label-arrow:before {content: \"▾\";}#sk-container-id-2 div.sk-estimator input.sk-toggleable__control:checked~label.sk-toggleable__label {background-color: #d4ebff;}#sk-container-id-2 div.sk-label input.sk-toggleable__control:checked~label.sk-toggleable__label {background-color: #d4ebff;}#sk-container-id-2 input.sk-hidden--visually {border: 0;clip: rect(1px 1px 1px 1px);clip: rect(1px, 1px, 1px, 1px);height: 1px;margin: -1px;overflow: hidden;padding: 0;position: absolute;width: 1px;}#sk-container-id-2 div.sk-estimator {font-family: monospace;background-color: #f0f8ff;border: 1px dotted black;border-radius: 0.25em;box-sizing: border-box;margin-bottom: 0.5em;}#sk-container-id-2 div.sk-estimator:hover {background-color: #d4ebff;}#sk-container-id-2 div.sk-parallel-item::after {content: \"\";width: 100%;border-bottom: 1px solid gray;flex-grow: 1;}#sk-container-id-2 div.sk-label:hover label.sk-toggleable__label {background-color: #d4ebff;}#sk-container-id-2 div.sk-serial::before {content: \"\";position: absolute;border-left: 1px solid gray;box-sizing: border-box;top: 0;bottom: 0;left: 50%;z-index: 0;}#sk-container-id-2 div.sk-serial {display: flex;flex-direction: column;align-items: center;background-color: white;padding-right: 0.2em;padding-left: 0.2em;position: relative;}#sk-container-id-2 div.sk-item {position: relative;z-index: 1;}#sk-container-id-2 div.sk-parallel {display: flex;align-items: stretch;justify-content: center;background-color: white;position: relative;}#sk-container-id-2 div.sk-item::before, #sk-container-id-2 div.sk-parallel-item::before {content: \"\";position: absolute;border-left: 1px solid gray;box-sizing: border-box;top: 0;bottom: 0;left: 50%;z-index: -1;}#sk-container-id-2 div.sk-parallel-item {display: flex;flex-direction: column;z-index: 1;position: relative;background-color: white;}#sk-container-id-2 div.sk-parallel-item:first-child::after {align-self: flex-end;width: 50%;}#sk-container-id-2 div.sk-parallel-item:last-child::after {align-self: flex-start;width: 50%;}#sk-container-id-2 div.sk-parallel-item:only-child::after {width: 0;}#sk-container-id-2 div.sk-dashed-wrapped {border: 1px dashed gray;margin: 0 0.4em 0.5em 0.4em;box-sizing: border-box;padding-bottom: 0.4em;background-color: white;}#sk-container-id-2 div.sk-label label {font-family: monospace;font-weight: bold;display: inline-block;line-height: 1.2em;}#sk-container-id-2 div.sk-label-container {text-align: center;}#sk-container-id-2 div.sk-container {/* jupyter's `normalize.less` sets `[hidden] { display: none; }` but bootstrap.min.css set `[hidden] { display: none !important; }` so we also need the `!important` here to be able to override the default hidden behavior on the sphinx rendered scikit-learn.org. See: https://github.com/scikit-learn/scikit-learn/issues/21755 */display: inline-block !important;position: relative;}#sk-container-id-2 div.sk-text-repr-fallback {display: none;}</style><div id=\"sk-container-id-2\" class=\"sk-top-container\"><div class=\"sk-text-repr-fallback\"><pre>KNeighborsClassifier(n_neighbors=4)</pre><b>In a Jupyter environment, please rerun this cell to show the HTML representation or trust the notebook. <br />On GitHub, the HTML representation is unable to render, please try loading this page with nbviewer.org.</b></div><div class=\"sk-container\" hidden><div class=\"sk-item\"><div class=\"sk-estimator sk-toggleable\"><input class=\"sk-toggleable__control sk-hidden--visually\" id=\"sk-estimator-id-5\" type=\"checkbox\" checked><label for=\"sk-estimator-id-5\" class=\"sk-toggleable__label sk-toggleable__label-arrow\">KNeighborsClassifier</label><div class=\"sk-toggleable__content\"><pre>KNeighborsClassifier(n_neighbors=4)</pre></div></div></div></div></div>"
      ],
      "text/plain": [
       "KNeighborsClassifier(n_neighbors=4)"
      ]
     },
     "execution_count": 19,
     "metadata": {},
     "output_type": "execute_result"
    }
   ],
   "source": [
    "full_model.fit(x_train,y_train)"
   ]
  },
  {
   "cell_type": "markdown",
   "id": "41455b81-7427-4254-9312-5c5b56b63ff3",
   "metadata": {},
   "source": [
    "# 8.Prediction score for test dataset"
   ]
  },
  {
   "cell_type": "code",
   "execution_count": 29,
   "id": "bc35d4b0-8153-4dd6-a33a-ba60aaebc90d",
   "metadata": {},
   "outputs": [],
   "source": [
    "pred_test = pd.DataFrame(full_model.predict_proba(x_test))[1]\n"
   ]
  },
  {
   "cell_type": "code",
   "execution_count": 30,
   "id": "ee916a3a-d1cf-403b-a812-a7d8c0cd1738",
   "metadata": {},
   "outputs": [
    {
     "data": {
      "text/plain": [
       "0    0.0\n",
       "1    0.0\n",
       "2    0.0\n",
       "3    0.0\n",
       "4    0.0\n",
       "Name: 1, dtype: float64"
      ]
     },
     "execution_count": 30,
     "metadata": {},
     "output_type": "execute_result"
    }
   ],
   "source": [
    "pred_test.head()"
   ]
  },
  {
   "cell_type": "markdown",
   "id": "e099a35f-47e1-4783-931d-1ae73e7bc2f7",
   "metadata": {},
   "source": [
    "# 9.Export result"
   ]
  },
  {
   "cell_type": "code",
   "execution_count": 40,
   "id": "bc3b47a0-a3c3-4867-8f1e-f3273294b325",
   "metadata": {},
   "outputs": [],
   "source": [
    "result = pd.DataFrame([estimated_auc,])"
   ]
  },
  {
   "cell_type": "code",
   "execution_count": 41,
   "id": "16409304-5789-4de5-964d-00056a911e77",
   "metadata": {},
   "outputs": [
    {
     "data": {
      "text/html": [
       "<div>\n",
       "<style scoped>\n",
       "    .dataframe tbody tr th:only-of-type {\n",
       "        vertical-align: middle;\n",
       "    }\n",
       "\n",
       "    .dataframe tbody tr th {\n",
       "        vertical-align: top;\n",
       "    }\n",
       "\n",
       "    .dataframe thead th {\n",
       "        text-align: right;\n",
       "    }\n",
       "</style>\n",
       "<table border=\"1\" class=\"dataframe\">\n",
       "  <thead>\n",
       "    <tr style=\"text-align: right;\">\n",
       "      <th></th>\n",
       "      <th>0</th>\n",
       "    </tr>\n",
       "  </thead>\n",
       "  <tbody>\n",
       "    <tr>\n",
       "      <th>0</th>\n",
       "      <td>0.64004</td>\n",
       "    </tr>\n",
       "  </tbody>\n",
       "</table>\n",
       "</div>"
      ],
      "text/plain": [
       "         0\n",
       "0  0.64004"
      ]
     },
     "execution_count": 41,
     "metadata": {},
     "output_type": "execute_result"
    }
   ],
   "source": [
    "result.head()"
   ]
  },
  {
   "cell_type": "code",
   "execution_count": 42,
   "id": "8d070178-fa9f-4842-82fc-20e03607842f",
   "metadata": {},
   "outputs": [],
   "source": [
    "result = pd.concat([result,pred_test])"
   ]
  },
  {
   "cell_type": "code",
   "execution_count": 43,
   "id": "8edacf60-5582-4f16-a752-991a10bc9627",
   "metadata": {},
   "outputs": [
    {
     "data": {
      "text/html": [
       "<div>\n",
       "<style scoped>\n",
       "    .dataframe tbody tr th:only-of-type {\n",
       "        vertical-align: middle;\n",
       "    }\n",
       "\n",
       "    .dataframe tbody tr th {\n",
       "        vertical-align: top;\n",
       "    }\n",
       "\n",
       "    .dataframe thead th {\n",
       "        text-align: right;\n",
       "    }\n",
       "</style>\n",
       "<table border=\"1\" class=\"dataframe\">\n",
       "  <thead>\n",
       "    <tr style=\"text-align: right;\">\n",
       "      <th></th>\n",
       "      <th>0</th>\n",
       "    </tr>\n",
       "  </thead>\n",
       "  <tbody>\n",
       "    <tr>\n",
       "      <th>0</th>\n",
       "      <td>0.64004</td>\n",
       "    </tr>\n",
       "    <tr>\n",
       "      <th>0</th>\n",
       "      <td>0.00000</td>\n",
       "    </tr>\n",
       "    <tr>\n",
       "      <th>1</th>\n",
       "      <td>0.00000</td>\n",
       "    </tr>\n",
       "    <tr>\n",
       "      <th>2</th>\n",
       "      <td>0.00000</td>\n",
       "    </tr>\n",
       "    <tr>\n",
       "      <th>3</th>\n",
       "      <td>0.00000</td>\n",
       "    </tr>\n",
       "  </tbody>\n",
       "</table>\n",
       "</div>"
      ],
      "text/plain": [
       "         0\n",
       "0  0.64004\n",
       "0  0.00000\n",
       "1  0.00000\n",
       "2  0.00000\n",
       "3  0.00000"
      ]
     },
     "execution_count": 43,
     "metadata": {},
     "output_type": "execute_result"
    }
   ],
   "source": [
    "result.head()"
   ]
  },
  {
   "cell_type": "code",
   "execution_count": 46,
   "id": "d4c77dad-2c88-40b4-b9d9-a45560488281",
   "metadata": {},
   "outputs": [],
   "source": [
    "result.to_csv(f\"{model_name}_{dataset_name}_Result.csv\")"
   ]
  },
  {
   "cell_type": "code",
   "execution_count": null,
   "id": "71d4b06b-45fa-4666-ba2e-e6fb3390efa9",
   "metadata": {},
   "outputs": [],
   "source": []
  }
 ],
 "metadata": {
  "kernelspec": {
   "display_name": "Python 3 (ipykernel)",
   "language": "python",
   "name": "python3"
  },
  "language_info": {
   "codemirror_mode": {
    "name": "ipython",
    "version": 3
   },
   "file_extension": ".py",
   "mimetype": "text/x-python",
   "name": "python",
   "nbconvert_exporter": "python",
   "pygments_lexer": "ipython3",
   "version": "3.9.0"
  }
 },
 "nbformat": 4,
 "nbformat_minor": 5
}
