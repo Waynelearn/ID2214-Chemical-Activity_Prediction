{
 "cells": [
  {
   "cell_type": "code",
   "execution_count": 12,
   "id": "a3319ae3-5949-4485-a613-35f6a23bd678",
   "metadata": {},
   "outputs": [],
   "source": [
    "#Same accross all Model Selection notebooks\n",
    "import numpy as np\n",
    "import pandas as pd\n",
    "import matplotlib.pyplot as plt\n",
    "from sklearn.pipeline import Pipeline\n",
    "\n",
    "#Hyperparameter search method, metric: \"roc_auc\"\n",
    "from sklearn.model_selection import GridSearchCV\n",
    "#metric\n",
    "from sklearn.metrics import roc_auc_score as auc\n",
    "\n",
    "#Different for different Model Selection notebooks\n",
    "#preprocessing\n",
    "from sklearn.preprocessing import StandardScaler\n",
    "from sklearn.preprocessing import MinMaxScaler\n",
    "#model\n",
    "from sklearn.neighbors import KNeighborsClassifier"
   ]
  },
  {
   "cell_type": "code",
   "execution_count": null,
   "id": "4c6a0912-bfa7-4243-8545-96269de53ada",
   "metadata": {},
   "outputs": [],
   "source": [
    "model_name=\"KNeighborsClassifier\""
   ]
  },
  {
   "cell_type": "markdown",
   "id": "27badbba-40dd-49af-855b-de31aca1e18c",
   "metadata": {},
   "source": [
    "# 1. Import the train and test datasets *"
   ]
  },
  {
   "cell_type": "code",
   "execution_count": 11,
   "id": "5dce1ed4-bc8f-4fba-8132-4ccdec65fe10",
   "metadata": {},
   "outputs": [
    {
     "ename": "KeyError",
     "evalue": "'ACTIVE'",
     "output_type": "error",
     "traceback": [
      "\u001b[1;31m---------------------------------------------------------------------------\u001b[0m",
      "\u001b[1;31mKeyError\u001b[0m                                  Traceback (most recent call last)",
      "File \u001b[1;32mc:\\users\\admin\\appdata\\local\\programs\\python\\python39\\lib\\site-packages\\pandas\\core\\indexes\\base.py:3803\u001b[0m, in \u001b[0;36mIndex.get_loc\u001b[1;34m(self, key, method, tolerance)\u001b[0m\n\u001b[0;32m   3802\u001b[0m \u001b[38;5;28;01mtry\u001b[39;00m:\n\u001b[1;32m-> 3803\u001b[0m     \u001b[38;5;28;01mreturn\u001b[39;00m \u001b[38;5;28;43mself\u001b[39;49m\u001b[38;5;241;43m.\u001b[39;49m\u001b[43m_engine\u001b[49m\u001b[38;5;241;43m.\u001b[39;49m\u001b[43mget_loc\u001b[49m\u001b[43m(\u001b[49m\u001b[43mcasted_key\u001b[49m\u001b[43m)\u001b[49m\n\u001b[0;32m   3804\u001b[0m \u001b[38;5;28;01mexcept\u001b[39;00m \u001b[38;5;167;01mKeyError\u001b[39;00m \u001b[38;5;28;01mas\u001b[39;00m err:\n",
      "File \u001b[1;32mc:\\users\\admin\\appdata\\local\\programs\\python\\python39\\lib\\site-packages\\pandas\\_libs\\index.pyx:138\u001b[0m, in \u001b[0;36mpandas._libs.index.IndexEngine.get_loc\u001b[1;34m()\u001b[0m\n",
      "File \u001b[1;32mc:\\users\\admin\\appdata\\local\\programs\\python\\python39\\lib\\site-packages\\pandas\\_libs\\index.pyx:165\u001b[0m, in \u001b[0;36mpandas._libs.index.IndexEngine.get_loc\u001b[1;34m()\u001b[0m\n",
      "File \u001b[1;32mpandas\\_libs\\hashtable_class_helper.pxi:5745\u001b[0m, in \u001b[0;36mpandas._libs.hashtable.PyObjectHashTable.get_item\u001b[1;34m()\u001b[0m\n",
      "File \u001b[1;32mpandas\\_libs\\hashtable_class_helper.pxi:5753\u001b[0m, in \u001b[0;36mpandas._libs.hashtable.PyObjectHashTable.get_item\u001b[1;34m()\u001b[0m\n",
      "\u001b[1;31mKeyError\u001b[0m: 'ACTIVE'",
      "\nThe above exception was the direct cause of the following exception:\n",
      "\u001b[1;31mKeyError\u001b[0m                                  Traceback (most recent call last)",
      "Cell \u001b[1;32mIn [11], line 9\u001b[0m\n\u001b[0;32m      7\u001b[0m \u001b[38;5;66;03m#check dataset if there is a index col, id there is include the argument index_col=0\u001b[39;00m\n\u001b[0;32m      8\u001b[0m x_train \u001b[38;5;241m=\u001b[39m pd\u001b[38;5;241m.\u001b[39mread_csv(train_files[data_index],index_col\u001b[38;5;241m=\u001b[39m\u001b[38;5;241m0\u001b[39m)\n\u001b[1;32m----> 9\u001b[0m y_train \u001b[38;5;241m=\u001b[39m \u001b[43mx_train\u001b[49m\u001b[43m[\u001b[49m\u001b[38;5;124;43m\"\u001b[39;49m\u001b[38;5;124;43mACTIVE\u001b[39;49m\u001b[38;5;124;43m\"\u001b[39;49m\u001b[43m]\u001b[49m\n\u001b[0;32m     10\u001b[0m x_train\u001b[38;5;241m.\u001b[39mdrop([\u001b[38;5;124m\"\u001b[39m\u001b[38;5;124mACTIVE\u001b[39m\u001b[38;5;124m\"\u001b[39m],axis\u001b[38;5;241m=\u001b[39m\u001b[38;5;241m1\u001b[39m,inplace\u001b[38;5;241m=\u001b[39m\u001b[38;5;28;01mTrue\u001b[39;00m)\n\u001b[0;32m     11\u001b[0m x_test \u001b[38;5;241m=\u001b[39m pd\u001b[38;5;241m.\u001b[39mread_csv(test_files[data_index],index_col\u001b[38;5;241m=\u001b[39m\u001b[38;5;241m0\u001b[39m) \n",
      "File \u001b[1;32mc:\\users\\admin\\appdata\\local\\programs\\python\\python39\\lib\\site-packages\\pandas\\core\\frame.py:3805\u001b[0m, in \u001b[0;36mDataFrame.__getitem__\u001b[1;34m(self, key)\u001b[0m\n\u001b[0;32m   3803\u001b[0m \u001b[38;5;28;01mif\u001b[39;00m \u001b[38;5;28mself\u001b[39m\u001b[38;5;241m.\u001b[39mcolumns\u001b[38;5;241m.\u001b[39mnlevels \u001b[38;5;241m>\u001b[39m \u001b[38;5;241m1\u001b[39m:\n\u001b[0;32m   3804\u001b[0m     \u001b[38;5;28;01mreturn\u001b[39;00m \u001b[38;5;28mself\u001b[39m\u001b[38;5;241m.\u001b[39m_getitem_multilevel(key)\n\u001b[1;32m-> 3805\u001b[0m indexer \u001b[38;5;241m=\u001b[39m \u001b[38;5;28;43mself\u001b[39;49m\u001b[38;5;241;43m.\u001b[39;49m\u001b[43mcolumns\u001b[49m\u001b[38;5;241;43m.\u001b[39;49m\u001b[43mget_loc\u001b[49m\u001b[43m(\u001b[49m\u001b[43mkey\u001b[49m\u001b[43m)\u001b[49m\n\u001b[0;32m   3806\u001b[0m \u001b[38;5;28;01mif\u001b[39;00m is_integer(indexer):\n\u001b[0;32m   3807\u001b[0m     indexer \u001b[38;5;241m=\u001b[39m [indexer]\n",
      "File \u001b[1;32mc:\\users\\admin\\appdata\\local\\programs\\python\\python39\\lib\\site-packages\\pandas\\core\\indexes\\base.py:3805\u001b[0m, in \u001b[0;36mIndex.get_loc\u001b[1;34m(self, key, method, tolerance)\u001b[0m\n\u001b[0;32m   3803\u001b[0m     \u001b[38;5;28;01mreturn\u001b[39;00m \u001b[38;5;28mself\u001b[39m\u001b[38;5;241m.\u001b[39m_engine\u001b[38;5;241m.\u001b[39mget_loc(casted_key)\n\u001b[0;32m   3804\u001b[0m \u001b[38;5;28;01mexcept\u001b[39;00m \u001b[38;5;167;01mKeyError\u001b[39;00m \u001b[38;5;28;01mas\u001b[39;00m err:\n\u001b[1;32m-> 3805\u001b[0m     \u001b[38;5;28;01mraise\u001b[39;00m \u001b[38;5;167;01mKeyError\u001b[39;00m(key) \u001b[38;5;28;01mfrom\u001b[39;00m \u001b[38;5;21;01merr\u001b[39;00m\n\u001b[0;32m   3806\u001b[0m \u001b[38;5;28;01mexcept\u001b[39;00m \u001b[38;5;167;01mTypeError\u001b[39;00m:\n\u001b[0;32m   3807\u001b[0m     \u001b[38;5;66;03m# If we have a listlike key, _check_indexing_error will raise\u001b[39;00m\n\u001b[0;32m   3808\u001b[0m     \u001b[38;5;66;03m#  InvalidIndexError. Otherwise we fall through and re-raise\u001b[39;00m\n\u001b[0;32m   3809\u001b[0m     \u001b[38;5;66;03m#  the TypeError.\u001b[39;00m\n\u001b[0;32m   3810\u001b[0m     \u001b[38;5;28mself\u001b[39m\u001b[38;5;241m.\u001b[39m_check_indexing_error(key)\n",
      "\u001b[1;31mKeyError\u001b[0m: 'ACTIVE'"
     ]
    }
   ],
   "source": [
    "#select the index of file to load\n",
    "data_index=1\n",
    "\n",
    "train_files=[\"DL_train.csv\",\"Morgan_train.csv\",\"Both_train.csv\"]\n",
    "test_files=[\"DL_test.csv\",\"Morgan_test.csv\",\"Both_test.csv\"]\n",
    "\n",
    "#check dataset if there is a index col, id there is include the argument index_col=0\n",
    "x_train = pd.read_csv(train_files[data_index],index_col=0)\n",
    "y_train = x_train.ACTIVE\n",
    "x_train.drop([\"ACTIVE\"],axis=1,inplace=True)\n",
    "x_test = pd.read_csv(test_files[data_index],index_col=0) "
   ]
  },
  {
   "cell_type": "markdown",
   "id": "456b0ae3-c203-4ea8-95e3-04082d407e7d",
   "metadata": {},
   "source": [
    "# 2. Setup Pipeline *"
   ]
  },
  {
   "cell_type": "code",
   "execution_count": 13,
   "id": "e32c4bdd-853d-4bdb-a5aa-d05a21fa3add",
   "metadata": {},
   "outputs": [],
   "source": [
    "#Step 1: Normalise the data\n",
    "norm_index=0\n",
    "norm_type = [StandardScaler(),MinMaxScaler()] \n",
    "#Step 2: Model fit\n",
    "model_index=0\n",
    "models=[KNeighborsClassifier(),]\n",
    "#Step 3: Pipeline\n",
    "pipeline=Pipeline(steps=[(\"norm\",norm_type[norm_index]),(\"model\",models[model_index])])"
   ]
  },
  {
   "cell_type": "markdown",
   "id": "c1f0598d-8ea1-40eb-85fe-dbebfb899b6a",
   "metadata": {},
   "source": [
    "# 3. Setup Parameter Grid *"
   ]
  },
  {
   "cell_type": "code",
   "execution_count": 8,
   "id": "77c59694-a201-43bb-b13a-76fd8d3dcd74",
   "metadata": {},
   "outputs": [],
   "source": [
    "param_grid = {\n",
    "    \"model__n_neighbors\":[1,4,5,6,7,8,10]\n",
    "}"
   ]
  },
  {
   "cell_type": "markdown",
   "id": "87bad7d7-81c1-430e-8742-c68999a26725",
   "metadata": {},
   "source": [
    "# 4. setup GridSearch"
   ]
  },
  {
   "cell_type": "code",
   "execution_count": null,
   "id": "417adba2-d1aa-4c39-bf0d-d50b73e43bb1",
   "metadata": {},
   "outputs": [],
   "source": [
    "score_metric = roc_auc\"\n",
    "search = GridSearchCV(pipeline,param_grid,\n",
    "                      n_jobs=-1,\n",
    "                      cv=10,\n",
    "                      scoring=score_metric)\n"
   ]
  },
  {
   "cell_type": "code",
   "execution_count": null,
   "id": "07c04dbc-9ca0-4ffc-b5d9-3949e77950ef",
   "metadata": {},
   "outputs": [],
   "source": [
    "search.fit(x_train,y_train)"
   ]
  },
  {
   "cell_type": "code",
   "execution_count": null,
   "id": "991961c0-e522-4a16-b445-bca480c10bce",
   "metadata": {},
   "outputs": [],
   "source": [
    "print(\"Best parameter (CV score=%0.3f):\" % search.best_score_)\n",
    "print(search.best_params_)"
   ]
  },
  {
   "cell_type": "code",
   "execution_count": null,
   "id": "cfc80737-10b0-46e4-a7fb-f2e65180bdf7",
   "metadata": {},
   "outputs": [],
   "source": [
    "search_res = pd.DataFrame(search.cv_results_)\n",
    "search_res = search_res.sort_values(by=['rank_test_score'])\n",
    "search_res.head()"
   ]
  },
  {
   "cell_type": "markdown",
   "id": "22ee6e52-f224-4a7d-93d6-4b1b4ac6577a",
   "metadata": {},
   "source": [
    "# 5.Estimation of Model Performance based on CV in GridSearch"
   ]
  },
  {
   "cell_type": "code",
   "execution_count": null,
   "id": "8f49a403-f359-4b9c-bbcc-56f80a06775a",
   "metadata": {},
   "outputs": [],
   "source": [
    "estimated_auc = search_res.query(\"rank_test_score == 1\").mean_test_score"
   ]
  },
  {
   "cell_type": "markdown",
   "id": "4225023f-cfe3-4a2e-a03a-a5d3465bb507",
   "metadata": {},
   "source": [
    "# 6.Best Hyperparameter"
   ]
  },
  {
   "cell_type": "code",
   "execution_count": null,
   "id": "ba8c9e6e-0e72-403c-9150-119a9bc4bf21",
   "metadata": {},
   "outputs": [],
   "source": [
    "parms = search_res.query(\"rank_test_score == 1\").params"
   ]
  },
  {
   "cell_type": "code",
   "execution_count": null,
   "id": "959b1259-74e2-47eb-b059-9fe275599180",
   "metadata": {},
   "outputs": [],
   "source": [
    "n_neighbors = parms[\"model__n_neighbors\"]"
   ]
  },
  {
   "cell_type": "markdown",
   "id": "00e6b0a0-5760-499a-81c5-ebe6d44efce5",
   "metadata": {},
   "source": [
    "# 7.Train model on full train dataset"
   ]
  },
  {
   "cell_type": "code",
   "execution_count": null,
   "id": "b5ef99cd-fc1a-40b8-90e2-5f1b123cb070",
   "metadata": {},
   "outputs": [],
   "source": [
    "full_model = KNeighborsRegressor(n_neighbors=n_neighbors)"
   ]
  },
  {
   "cell_type": "code",
   "execution_count": null,
   "id": "6926bd31-7455-4e73-83de-72e91050801e",
   "metadata": {},
   "outputs": [],
   "source": [
    "full_model.fit(x_train,y_train)"
   ]
  },
  {
   "cell_type": "markdown",
   "id": "41455b81-7427-4254-9312-5c5b56b63ff3",
   "metadata": {},
   "source": [
    "# 8.Prediction score for test dataset"
   ]
  },
  {
   "cell_type": "code",
   "execution_count": null,
   "id": "bc35d4b0-8153-4dd6-a33a-ba60aaebc90d",
   "metadata": {},
   "outputs": [],
   "source": [
    "pred_test = full_model.predict_proba(x_test)"
   ]
  },
  {
   "cell_type": "markdown",
   "id": "e099a35f-47e1-4783-931d-1ae73e7bc2f7",
   "metadata": {},
   "source": [
    "# 9.Export result"
   ]
  },
  {
   "cell_type": "code",
   "execution_count": null,
   "id": "bc3b47a0-a3c3-4867-8f1e-f3273294b325",
   "metadata": {},
   "outputs": [],
   "source": [
    "result = pd.DataFrame(estimated_auc)"
   ]
  },
  {
   "cell_type": "code",
   "execution_count": null,
   "id": "8d070178-fa9f-4842-82fc-20e03607842f",
   "metadata": {},
   "outputs": [],
   "source": [
    "result = pd.concat([result,pred_test])"
   ]
  },
  {
   "cell_type": "code",
   "execution_count": null,
   "id": "d4c77dad-2c88-40b4-b9d9-a45560488281",
   "metadata": {},
   "outputs": [],
   "source": [
    "result.to_csv(f\"{model_name}_{data}.csv\")"
   ]
  },
  {
   "cell_type": "code",
   "execution_count": 15,
   "id": "0bff900b-7390-48df-8470-7c66f5071005",
   "metadata": {},
   "outputs": [],
   "source": [
    "df=pd.DataFrame([[1,2],[3,4]])"
   ]
  },
  {
   "cell_type": "code",
   "execution_count": 23,
   "id": "78f02983-6159-4a55-a4f6-66849227f7ba",
   "metadata": {},
   "outputs": [
    {
     "data": {
      "text/html": [
       "<div>\n",
       "<style scoped>\n",
       "    .dataframe tbody tr th:only-of-type {\n",
       "        vertical-align: middle;\n",
       "    }\n",
       "\n",
       "    .dataframe tbody tr th {\n",
       "        vertical-align: top;\n",
       "    }\n",
       "\n",
       "    .dataframe thead th {\n",
       "        text-align: right;\n",
       "    }\n",
       "</style>\n",
       "<table border=\"1\" class=\"dataframe\">\n",
       "  <thead>\n",
       "    <tr style=\"text-align: right;\">\n",
       "      <th></th>\n",
       "      <th>0</th>\n",
       "      <th>1</th>\n",
       "    </tr>\n",
       "  </thead>\n",
       "  <tbody>\n",
       "    <tr>\n",
       "      <th>0</th>\n",
       "      <td>1</td>\n",
       "      <td>2</td>\n",
       "    </tr>\n",
       "    <tr>\n",
       "      <th>1</th>\n",
       "      <td>3</td>\n",
       "      <td>4</td>\n",
       "    </tr>\n",
       "    <tr>\n",
       "      <th>0</th>\n",
       "      <td>1</td>\n",
       "      <td>2</td>\n",
       "    </tr>\n",
       "    <tr>\n",
       "      <th>1</th>\n",
       "      <td>3</td>\n",
       "      <td>4</td>\n",
       "    </tr>\n",
       "  </tbody>\n",
       "</table>\n",
       "</div>"
      ],
      "text/plain": [
       "   0  1\n",
       "0  1  2\n",
       "1  3  4\n",
       "0  1  2\n",
       "1  3  4"
      ]
     },
     "execution_count": 23,
     "metadata": {},
     "output_type": "execute_result"
    }
   ],
   "source": [
    "pd.concat([df,df])"
   ]
  },
  {
   "cell_type": "code",
   "execution_count": 24,
   "id": "6d99cc37-2fce-45f2-8c6a-f31d0bb50a57",
   "metadata": {},
   "outputs": [
    {
     "data": {
      "text/html": [
       "<div>\n",
       "<style scoped>\n",
       "    .dataframe tbody tr th:only-of-type {\n",
       "        vertical-align: middle;\n",
       "    }\n",
       "\n",
       "    .dataframe tbody tr th {\n",
       "        vertical-align: top;\n",
       "    }\n",
       "\n",
       "    .dataframe thead th {\n",
       "        text-align: right;\n",
       "    }\n",
       "</style>\n",
       "<table border=\"1\" class=\"dataframe\">\n",
       "  <thead>\n",
       "    <tr style=\"text-align: right;\">\n",
       "      <th></th>\n",
       "      <th>0</th>\n",
       "      <th>1</th>\n",
       "    </tr>\n",
       "  </thead>\n",
       "  <tbody>\n",
       "    <tr>\n",
       "      <th>0</th>\n",
       "      <td>1</td>\n",
       "      <td>2</td>\n",
       "    </tr>\n",
       "    <tr>\n",
       "      <th>1</th>\n",
       "      <td>3</td>\n",
       "      <td>4</td>\n",
       "    </tr>\n",
       "  </tbody>\n",
       "</table>\n",
       "</div>"
      ],
      "text/plain": [
       "   0  1\n",
       "0  1  2\n",
       "1  3  4"
      ]
     },
     "execution_count": 24,
     "metadata": {},
     "output_type": "execute_result"
    }
   ],
   "source": [
    "df"
   ]
  },
  {
   "cell_type": "code",
   "execution_count": null,
   "id": "d3e84a32-b502-480a-9e22-1e80f08cc960",
   "metadata": {},
   "outputs": [],
   "source": []
  }
 ],
 "metadata": {
  "kernelspec": {
   "display_name": "Python 3 (ipykernel)",
   "language": "python",
   "name": "python3"
  },
  "language_info": {
   "codemirror_mode": {
    "name": "ipython",
    "version": 3
   },
   "file_extension": ".py",
   "mimetype": "text/x-python",
   "name": "python",
   "nbconvert_exporter": "python",
   "pygments_lexer": "ipython3",
   "version": "3.9.0"
  }
 },
 "nbformat": 4,
 "nbformat_minor": 5
}
