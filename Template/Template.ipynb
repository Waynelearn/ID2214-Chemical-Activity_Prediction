{
 "cells": [
  {
   "cell_type": "code",
   "execution_count": 3,
   "id": "a3319ae3-5949-4485-a613-35f6a23bd678",
   "metadata": {},
   "outputs": [],
   "source": [
    "#Same accross all Model Selection notebooks\n",
    "import numpy as np\n",
    "import pandas as pd\n",
    "import matplotlib.pyplot as plt\n",
    "from sklearn.pipeline import Pipeline\n",
    "\n",
    "#Hyperparameter search method, metric: \"roc_auc\"\n",
    "from sklearn.model_selection import GridSearchCV\n",
    "#metric\n",
    "from sklearn.metrics import roc_auc_score as auc\n",
    "\n",
    "#Different for different Model Selection notebooks\n",
    "#preprocessing\n",
    "from sklearn.preprocessing import StandardScaler\n",
    "from sklearn.preprocessing import MinMaxScaler\n",
    "#model\n",
    "from sklearn.neighbors import KNeighborsRegressor"
   ]
  },
  {
   "cell_type": "markdown",
   "id": "27badbba-40dd-49af-855b-de31aca1e18c",
   "metadata": {},
   "source": [
    "# 1. Import the train and test datasets *"
   ]
  },
  {
   "cell_type": "code",
   "execution_count": null,
   "id": "5dce1ed4-bc8f-4fba-8132-4ccdec65fe10",
   "metadata": {},
   "outputs": [],
   "source": [
    "#select the index of file to load\n",
    "data_index=0\n",
    "\n",
    "train_files=[\"DL_train.csv\",\"Morgan_train.csv\",\"Both_train.csv\"]\n",
    "test_files=[\"DL_test.csv\",\"Morgan_test.csv\",\"Both_test.csv\"]\n",
    "\n",
    "#check dataset if there is a index col, id there is include the argument index_col=0\n",
    "x_train = pd.read_csv(train_files[data_index],index_col=0)\n",
    "y_train = x_train.ACTIVE\n",
    "x_train.drop([\"ACTIVE\"],axis=1,inplace=True)\n",
    "x_test = pd.read_csv(test_files[data_index],index_col=0) "
   ]
  },
  {
   "cell_type": "markdown",
   "id": "456b0ae3-c203-4ea8-95e3-04082d407e7d",
   "metadata": {},
   "source": [
    "# 2. Setup Pipeline *"
   ]
  },
  {
   "cell_type": "code",
   "execution_count": 6,
   "id": "e32c4bdd-853d-4bdb-a5aa-d05a21fa3add",
   "metadata": {},
   "outputs": [],
   "source": [
    "#Step 1: Normalise the data\n",
    "norm_index=0\n",
    "norm_type = [StandardScaler(),MinMaxScaler()] \n",
    "#Step 2: Model fit\n",
    "model_index=0\n",
    "models=[KNeighborsRegressor(),]\n",
    "#Step 3: Pipeline\n",
    "pipeline=Pipeline(steps=[(\"norm\",norm_type[norm_index]),(\"model\",models[model_index])])"
   ]
  },
  {
   "cell_type": "markdown",
   "id": "c1f0598d-8ea1-40eb-85fe-dbebfb899b6a",
   "metadata": {},
   "source": [
    "# 3. Setup Parameter Grid *"
   ]
  },
  {
   "cell_type": "code",
   "execution_count": 8,
   "id": "77c59694-a201-43bb-b13a-76fd8d3dcd74",
   "metadata": {},
   "outputs": [],
   "source": [
    "param_grid = {\n",
    "    \"model__n_neighbors\":[1,4,5,6,7,8,10]\n",
    "}"
   ]
  },
  {
   "cell_type": "markdown",
   "id": "87bad7d7-81c1-430e-8742-c68999a26725",
   "metadata": {},
   "source": [
    "# 4. setup GridSearch"
   ]
  },
  {
   "cell_type": "code",
   "execution_count": null,
   "id": "417adba2-d1aa-4c39-bf0d-d50b73e43bb1",
   "metadata": {},
   "outputs": [],
   "source": [
    "score_metric = roc_auc\"\n",
    "search = GridSearchCV(pipeline,param_grid,\n",
    "                      n_jobs=-1,\n",
    "                      cv=10,\n",
    "                      scoring=score_metric)\n"
   ]
  },
  {
   "cell_type": "code",
   "execution_count": null,
   "id": "07c04dbc-9ca0-4ffc-b5d9-3949e77950ef",
   "metadata": {},
   "outputs": [],
   "source": [
    "search.fit(x_train,y_train)"
   ]
  },
  {
   "cell_type": "code",
   "execution_count": null,
   "id": "991961c0-e522-4a16-b445-bca480c10bce",
   "metadata": {},
   "outputs": [],
   "source": [
    "print(\"Best parameter (CV score=%0.3f):\" % search.best_score_)\n",
    "print(search.best_params_)"
   ]
  },
  {
   "cell_type": "code",
   "execution_count": null,
   "id": "cfc80737-10b0-46e4-a7fb-f2e65180bdf7",
   "metadata": {},
   "outputs": [],
   "source": [
    "search_res = pd.DataFrame(search.cv_results_)\n",
    "search_res = search_res.sort_values(by=['rank_test_score'])\n",
    "search_res.head()"
   ]
  },
  {
   "cell_type": "markdown",
   "id": "22ee6e52-f224-4a7d-93d6-4b1b4ac6577a",
   "metadata": {},
   "source": [
    "# 5.Estimation of Model Performance based on CV in GridSearch"
   ]
  },
  {
   "cell_type": "code",
   "execution_count": null,
   "id": "8f49a403-f359-4b9c-bbcc-56f80a06775a",
   "metadata": {},
   "outputs": [],
   "source": [
    "search_res"
   ]
  }
 ],
 "metadata": {
  "kernelspec": {
   "display_name": "Python 3 (ipykernel)",
   "language": "python",
   "name": "python3"
  },
  "language_info": {
   "codemirror_mode": {
    "name": "ipython",
    "version": 3
   },
   "file_extension": ".py",
   "mimetype": "text/x-python",
   "name": "python",
   "nbconvert_exporter": "python",
   "pygments_lexer": "ipython3",
   "version": "3.9.0"
  }
 },
 "nbformat": 4,
 "nbformat_minor": 5
}
