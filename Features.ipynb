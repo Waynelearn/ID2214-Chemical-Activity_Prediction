{
 "cells": [
  {
   "cell_type": "code",
   "execution_count": 56,
   "id": "8b1d74b7",
   "metadata": {},
   "outputs": [],
   "source": [
    "import numpy as np\n",
    "import pandas as pd\n",
    "import matplotlib.pyplot as plt\n",
    "import time\n",
    "from rdkit import Chem \n",
    "from rdkit.Chem import Descriptors\n",
    "from rdkit.Chem import AllChem"
   ]
  },
  {
   "cell_type": "markdown",
   "id": "c2ea3de3",
   "metadata": {},
   "source": [
    "# 1. Read Training Dataset and Test Dataset"
   ]
  },
  {
   "cell_type": "code",
   "execution_count": 57,
   "id": "feb11e7c",
   "metadata": {},
   "outputs": [],
   "source": [
    "training_df= pd.read_csv(\"training_smiles.csv\")"
   ]
  },
  {
   "cell_type": "code",
   "execution_count": 58,
   "id": "a53beb81",
   "metadata": {},
   "outputs": [],
   "source": [
    "test_df= pd.read_csv(\"test_smiles.csv\")"
   ]
  },
  {
   "cell_type": "markdown",
   "id": "15fced00",
   "metadata": {},
   "source": [
    "# 2. Convert SMILE String into Molecule Object"
   ]
  },
  {
   "cell_type": "code",
   "execution_count": 59,
   "id": "7010cfe2",
   "metadata": {},
   "outputs": [
    {
     "name": "stderr",
     "output_type": "stream",
     "text": [
      "[13:24:49] WARNING: not removing hydrogen atom without neighbors\n"
     ]
    }
   ],
   "source": [
    "training_df['mol'] = training_df['SMILES'].apply(lambda x: Chem.MolFromSmiles(x)) "
   ]
  },
  {
   "cell_type": "code",
   "execution_count": 60,
   "id": "05b97af2",
   "metadata": {},
   "outputs": [
    {
     "name": "stderr",
     "output_type": "stream",
     "text": [
      "[13:25:40] WARNING: not removing hydrogen atom without neighbors\n"
     ]
    }
   ],
   "source": [
    "test_df['mol'] = test_df['SMILES'].apply(lambda x: Chem.MolFromSmiles(x)) "
   ]
  },
  {
   "cell_type": "markdown",
   "id": "bbfb2cd4",
   "metadata": {},
   "source": [
    "# 3. Extract Morgan Fingerprint Features (vectors)"
   ]
  },
  {
   "cell_type": "code",
   "execution_count": 62,
   "id": "47dcd763",
   "metadata": {},
   "outputs": [
    {
     "name": "stdout",
     "output_type": "stream",
     "text": [
      "[[0. 0. 0. ... 0. 1. 0.]\n",
      " [0. 0. 0. ... 0. 1. 0.]\n",
      " [0. 0. 0. ... 0. 1. 0.]\n",
      " ...\n",
      " [0. 0. 0. ... 0. 1. 0.]\n",
      " [0. 0. 1. ... 0. 1. 0.]\n",
      " [0. 0. 1. ... 0. 1. 0.]]\n"
     ]
    }
   ],
   "source": [
    "Morgan_train = training_df.copy()\n",
    "training_fp = np.zeros((training_df.index.size,124))\n",
    "for i in range(training_df.index.size):\n",
    "    training_fp[i] = np.array(AllChem.GetMorganFingerprintAsBitVect(training_df['mol'][i],1,nBits=124))\n",
    "print(training_fp)"
   ]
  },
  {
   "cell_type": "code",
   "execution_count": 63,
   "id": "2844f2cd",
   "metadata": {},
   "outputs": [
    {
     "name": "stderr",
     "output_type": "stream",
     "text": [
      "C:\\Users\\Yuhan\\AppData\\Local\\Temp\\ipykernel_131756\\966757706.py:2: PerformanceWarning: DataFrame is highly fragmented.  This is usually the result of calling `frame.insert` many times, which has poor performance.  Consider joining all columns at once using pd.concat(axis=1) instead. To get a de-fragmented frame, use `newframe = frame.copy()`\n",
      "  Morgan_train[\"fp{}\".format(j)] = training_fp[:,j]\n",
      "C:\\Users\\Yuhan\\AppData\\Local\\Temp\\ipykernel_131756\\966757706.py:2: PerformanceWarning: DataFrame is highly fragmented.  This is usually the result of calling `frame.insert` many times, which has poor performance.  Consider joining all columns at once using pd.concat(axis=1) instead. To get a de-fragmented frame, use `newframe = frame.copy()`\n",
      "  Morgan_train[\"fp{}\".format(j)] = training_fp[:,j]\n",
      "C:\\Users\\Yuhan\\AppData\\Local\\Temp\\ipykernel_131756\\966757706.py:2: PerformanceWarning: DataFrame is highly fragmented.  This is usually the result of calling `frame.insert` many times, which has poor performance.  Consider joining all columns at once using pd.concat(axis=1) instead. To get a de-fragmented frame, use `newframe = frame.copy()`\n",
      "  Morgan_train[\"fp{}\".format(j)] = training_fp[:,j]\n",
      "C:\\Users\\Yuhan\\AppData\\Local\\Temp\\ipykernel_131756\\966757706.py:2: PerformanceWarning: DataFrame is highly fragmented.  This is usually the result of calling `frame.insert` many times, which has poor performance.  Consider joining all columns at once using pd.concat(axis=1) instead. To get a de-fragmented frame, use `newframe = frame.copy()`\n",
      "  Morgan_train[\"fp{}\".format(j)] = training_fp[:,j]\n",
      "C:\\Users\\Yuhan\\AppData\\Local\\Temp\\ipykernel_131756\\966757706.py:2: PerformanceWarning: DataFrame is highly fragmented.  This is usually the result of calling `frame.insert` many times, which has poor performance.  Consider joining all columns at once using pd.concat(axis=1) instead. To get a de-fragmented frame, use `newframe = frame.copy()`\n",
      "  Morgan_train[\"fp{}\".format(j)] = training_fp[:,j]\n",
      "C:\\Users\\Yuhan\\AppData\\Local\\Temp\\ipykernel_131756\\966757706.py:2: PerformanceWarning: DataFrame is highly fragmented.  This is usually the result of calling `frame.insert` many times, which has poor performance.  Consider joining all columns at once using pd.concat(axis=1) instead. To get a de-fragmented frame, use `newframe = frame.copy()`\n",
      "  Morgan_train[\"fp{}\".format(j)] = training_fp[:,j]\n",
      "C:\\Users\\Yuhan\\AppData\\Local\\Temp\\ipykernel_131756\\966757706.py:2: PerformanceWarning: DataFrame is highly fragmented.  This is usually the result of calling `frame.insert` many times, which has poor performance.  Consider joining all columns at once using pd.concat(axis=1) instead. To get a de-fragmented frame, use `newframe = frame.copy()`\n",
      "  Morgan_train[\"fp{}\".format(j)] = training_fp[:,j]\n",
      "C:\\Users\\Yuhan\\AppData\\Local\\Temp\\ipykernel_131756\\966757706.py:2: PerformanceWarning: DataFrame is highly fragmented.  This is usually the result of calling `frame.insert` many times, which has poor performance.  Consider joining all columns at once using pd.concat(axis=1) instead. To get a de-fragmented frame, use `newframe = frame.copy()`\n",
      "  Morgan_train[\"fp{}\".format(j)] = training_fp[:,j]\n",
      "C:\\Users\\Yuhan\\AppData\\Local\\Temp\\ipykernel_131756\\966757706.py:2: PerformanceWarning: DataFrame is highly fragmented.  This is usually the result of calling `frame.insert` many times, which has poor performance.  Consider joining all columns at once using pd.concat(axis=1) instead. To get a de-fragmented frame, use `newframe = frame.copy()`\n",
      "  Morgan_train[\"fp{}\".format(j)] = training_fp[:,j]\n",
      "C:\\Users\\Yuhan\\AppData\\Local\\Temp\\ipykernel_131756\\966757706.py:2: PerformanceWarning: DataFrame is highly fragmented.  This is usually the result of calling `frame.insert` many times, which has poor performance.  Consider joining all columns at once using pd.concat(axis=1) instead. To get a de-fragmented frame, use `newframe = frame.copy()`\n",
      "  Morgan_train[\"fp{}\".format(j)] = training_fp[:,j]\n",
      "C:\\Users\\Yuhan\\AppData\\Local\\Temp\\ipykernel_131756\\966757706.py:2: PerformanceWarning: DataFrame is highly fragmented.  This is usually the result of calling `frame.insert` many times, which has poor performance.  Consider joining all columns at once using pd.concat(axis=1) instead. To get a de-fragmented frame, use `newframe = frame.copy()`\n",
      "  Morgan_train[\"fp{}\".format(j)] = training_fp[:,j]\n",
      "C:\\Users\\Yuhan\\AppData\\Local\\Temp\\ipykernel_131756\\966757706.py:2: PerformanceWarning: DataFrame is highly fragmented.  This is usually the result of calling `frame.insert` many times, which has poor performance.  Consider joining all columns at once using pd.concat(axis=1) instead. To get a de-fragmented frame, use `newframe = frame.copy()`\n",
      "  Morgan_train[\"fp{}\".format(j)] = training_fp[:,j]\n",
      "C:\\Users\\Yuhan\\AppData\\Local\\Temp\\ipykernel_131756\\966757706.py:2: PerformanceWarning: DataFrame is highly fragmented.  This is usually the result of calling `frame.insert` many times, which has poor performance.  Consider joining all columns at once using pd.concat(axis=1) instead. To get a de-fragmented frame, use `newframe = frame.copy()`\n",
      "  Morgan_train[\"fp{}\".format(j)] = training_fp[:,j]\n",
      "C:\\Users\\Yuhan\\AppData\\Local\\Temp\\ipykernel_131756\\966757706.py:2: PerformanceWarning: DataFrame is highly fragmented.  This is usually the result of calling `frame.insert` many times, which has poor performance.  Consider joining all columns at once using pd.concat(axis=1) instead. To get a de-fragmented frame, use `newframe = frame.copy()`\n",
      "  Morgan_train[\"fp{}\".format(j)] = training_fp[:,j]\n",
      "C:\\Users\\Yuhan\\AppData\\Local\\Temp\\ipykernel_131756\\966757706.py:2: PerformanceWarning: DataFrame is highly fragmented.  This is usually the result of calling `frame.insert` many times, which has poor performance.  Consider joining all columns at once using pd.concat(axis=1) instead. To get a de-fragmented frame, use `newframe = frame.copy()`\n",
      "  Morgan_train[\"fp{}\".format(j)] = training_fp[:,j]\n",
      "C:\\Users\\Yuhan\\AppData\\Local\\Temp\\ipykernel_131756\\966757706.py:2: PerformanceWarning: DataFrame is highly fragmented.  This is usually the result of calling `frame.insert` many times, which has poor performance.  Consider joining all columns at once using pd.concat(axis=1) instead. To get a de-fragmented frame, use `newframe = frame.copy()`\n",
      "  Morgan_train[\"fp{}\".format(j)] = training_fp[:,j]\n",
      "C:\\Users\\Yuhan\\AppData\\Local\\Temp\\ipykernel_131756\\966757706.py:2: PerformanceWarning: DataFrame is highly fragmented.  This is usually the result of calling `frame.insert` many times, which has poor performance.  Consider joining all columns at once using pd.concat(axis=1) instead. To get a de-fragmented frame, use `newframe = frame.copy()`\n",
      "  Morgan_train[\"fp{}\".format(j)] = training_fp[:,j]\n",
      "C:\\Users\\Yuhan\\AppData\\Local\\Temp\\ipykernel_131756\\966757706.py:2: PerformanceWarning: DataFrame is highly fragmented.  This is usually the result of calling `frame.insert` many times, which has poor performance.  Consider joining all columns at once using pd.concat(axis=1) instead. To get a de-fragmented frame, use `newframe = frame.copy()`\n",
      "  Morgan_train[\"fp{}\".format(j)] = training_fp[:,j]\n",
      "C:\\Users\\Yuhan\\AppData\\Local\\Temp\\ipykernel_131756\\966757706.py:2: PerformanceWarning: DataFrame is highly fragmented.  This is usually the result of calling `frame.insert` many times, which has poor performance.  Consider joining all columns at once using pd.concat(axis=1) instead. To get a de-fragmented frame, use `newframe = frame.copy()`\n",
      "  Morgan_train[\"fp{}\".format(j)] = training_fp[:,j]\n",
      "C:\\Users\\Yuhan\\AppData\\Local\\Temp\\ipykernel_131756\\966757706.py:2: PerformanceWarning: DataFrame is highly fragmented.  This is usually the result of calling `frame.insert` many times, which has poor performance.  Consider joining all columns at once using pd.concat(axis=1) instead. To get a de-fragmented frame, use `newframe = frame.copy()`\n",
      "  Morgan_train[\"fp{}\".format(j)] = training_fp[:,j]\n",
      "C:\\Users\\Yuhan\\AppData\\Local\\Temp\\ipykernel_131756\\966757706.py:2: PerformanceWarning: DataFrame is highly fragmented.  This is usually the result of calling `frame.insert` many times, which has poor performance.  Consider joining all columns at once using pd.concat(axis=1) instead. To get a de-fragmented frame, use `newframe = frame.copy()`\n",
      "  Morgan_train[\"fp{}\".format(j)] = training_fp[:,j]\n"
     ]
    },
    {
     "name": "stderr",
     "output_type": "stream",
     "text": [
      "C:\\Users\\Yuhan\\AppData\\Local\\Temp\\ipykernel_131756\\966757706.py:2: PerformanceWarning: DataFrame is highly fragmented.  This is usually the result of calling `frame.insert` many times, which has poor performance.  Consider joining all columns at once using pd.concat(axis=1) instead. To get a de-fragmented frame, use `newframe = frame.copy()`\n",
      "  Morgan_train[\"fp{}\".format(j)] = training_fp[:,j]\n",
      "C:\\Users\\Yuhan\\AppData\\Local\\Temp\\ipykernel_131756\\966757706.py:2: PerformanceWarning: DataFrame is highly fragmented.  This is usually the result of calling `frame.insert` many times, which has poor performance.  Consider joining all columns at once using pd.concat(axis=1) instead. To get a de-fragmented frame, use `newframe = frame.copy()`\n",
      "  Morgan_train[\"fp{}\".format(j)] = training_fp[:,j]\n",
      "C:\\Users\\Yuhan\\AppData\\Local\\Temp\\ipykernel_131756\\966757706.py:2: PerformanceWarning: DataFrame is highly fragmented.  This is usually the result of calling `frame.insert` many times, which has poor performance.  Consider joining all columns at once using pd.concat(axis=1) instead. To get a de-fragmented frame, use `newframe = frame.copy()`\n",
      "  Morgan_train[\"fp{}\".format(j)] = training_fp[:,j]\n",
      "C:\\Users\\Yuhan\\AppData\\Local\\Temp\\ipykernel_131756\\966757706.py:2: PerformanceWarning: DataFrame is highly fragmented.  This is usually the result of calling `frame.insert` many times, which has poor performance.  Consider joining all columns at once using pd.concat(axis=1) instead. To get a de-fragmented frame, use `newframe = frame.copy()`\n",
      "  Morgan_train[\"fp{}\".format(j)] = training_fp[:,j]\n",
      "C:\\Users\\Yuhan\\AppData\\Local\\Temp\\ipykernel_131756\\966757706.py:2: PerformanceWarning: DataFrame is highly fragmented.  This is usually the result of calling `frame.insert` many times, which has poor performance.  Consider joining all columns at once using pd.concat(axis=1) instead. To get a de-fragmented frame, use `newframe = frame.copy()`\n",
      "  Morgan_train[\"fp{}\".format(j)] = training_fp[:,j]\n",
      "C:\\Users\\Yuhan\\AppData\\Local\\Temp\\ipykernel_131756\\966757706.py:2: PerformanceWarning: DataFrame is highly fragmented.  This is usually the result of calling `frame.insert` many times, which has poor performance.  Consider joining all columns at once using pd.concat(axis=1) instead. To get a de-fragmented frame, use `newframe = frame.copy()`\n",
      "  Morgan_train[\"fp{}\".format(j)] = training_fp[:,j]\n"
     ]
    }
   ],
   "source": [
    "for j in range(training_fp.shape[1]):\n",
    "    Morgan_train[\"fp{}\".format(j)] = training_fp[:,j]\n",
    "Morgan_train.drop(columns=[\"INDEX\", \"SMILES\", \"mol\"], inplace = True)"
   ]
  },
  {
   "cell_type": "code",
   "execution_count": 64,
   "id": "56f1f736",
   "metadata": {},
   "outputs": [
    {
     "name": "stdout",
     "output_type": "stream",
     "text": [
      "[[0. 0. 0. ... 0. 1. 0.]\n",
      " [0. 0. 0. ... 0. 1. 0.]\n",
      " [0. 0. 1. ... 0. 1. 0.]\n",
      " ...\n",
      " [0. 0. 0. ... 0. 1. 0.]\n",
      " [0. 0. 0. ... 1. 1. 0.]\n",
      " [0. 0. 0. ... 0. 1. 0.]]\n"
     ]
    }
   ],
   "source": [
    "Morgan_test = test_df.copy()\n",
    "test_fp = np.zeros((test_df.index.size,124))\n",
    "for i in range(test_df.index.size):\n",
    "    test_fp[i] = np.array(AllChem.GetMorganFingerprintAsBitVect(test_df['mol'][i],1,nBits=124))\n",
    "print(test_fp)"
   ]
  },
  {
   "cell_type": "code",
   "execution_count": 65,
   "id": "6ceaa859",
   "metadata": {},
   "outputs": [
    {
     "name": "stderr",
     "output_type": "stream",
     "text": [
      "C:\\Users\\Yuhan\\AppData\\Local\\Temp\\ipykernel_131756\\1228905965.py:2: PerformanceWarning: DataFrame is highly fragmented.  This is usually the result of calling `frame.insert` many times, which has poor performance.  Consider joining all columns at once using pd.concat(axis=1) instead. To get a de-fragmented frame, use `newframe = frame.copy()`\n",
      "  Morgan_test[\"fp{}\".format(j)] = test_fp[:,j]\n",
      "C:\\Users\\Yuhan\\AppData\\Local\\Temp\\ipykernel_131756\\1228905965.py:2: PerformanceWarning: DataFrame is highly fragmented.  This is usually the result of calling `frame.insert` many times, which has poor performance.  Consider joining all columns at once using pd.concat(axis=1) instead. To get a de-fragmented frame, use `newframe = frame.copy()`\n",
      "  Morgan_test[\"fp{}\".format(j)] = test_fp[:,j]\n",
      "C:\\Users\\Yuhan\\AppData\\Local\\Temp\\ipykernel_131756\\1228905965.py:2: PerformanceWarning: DataFrame is highly fragmented.  This is usually the result of calling `frame.insert` many times, which has poor performance.  Consider joining all columns at once using pd.concat(axis=1) instead. To get a de-fragmented frame, use `newframe = frame.copy()`\n",
      "  Morgan_test[\"fp{}\".format(j)] = test_fp[:,j]\n",
      "C:\\Users\\Yuhan\\AppData\\Local\\Temp\\ipykernel_131756\\1228905965.py:2: PerformanceWarning: DataFrame is highly fragmented.  This is usually the result of calling `frame.insert` many times, which has poor performance.  Consider joining all columns at once using pd.concat(axis=1) instead. To get a de-fragmented frame, use `newframe = frame.copy()`\n",
      "  Morgan_test[\"fp{}\".format(j)] = test_fp[:,j]\n",
      "C:\\Users\\Yuhan\\AppData\\Local\\Temp\\ipykernel_131756\\1228905965.py:2: PerformanceWarning: DataFrame is highly fragmented.  This is usually the result of calling `frame.insert` many times, which has poor performance.  Consider joining all columns at once using pd.concat(axis=1) instead. To get a de-fragmented frame, use `newframe = frame.copy()`\n",
      "  Morgan_test[\"fp{}\".format(j)] = test_fp[:,j]\n",
      "C:\\Users\\Yuhan\\AppData\\Local\\Temp\\ipykernel_131756\\1228905965.py:2: PerformanceWarning: DataFrame is highly fragmented.  This is usually the result of calling `frame.insert` many times, which has poor performance.  Consider joining all columns at once using pd.concat(axis=1) instead. To get a de-fragmented frame, use `newframe = frame.copy()`\n",
      "  Morgan_test[\"fp{}\".format(j)] = test_fp[:,j]\n",
      "C:\\Users\\Yuhan\\AppData\\Local\\Temp\\ipykernel_131756\\1228905965.py:2: PerformanceWarning: DataFrame is highly fragmented.  This is usually the result of calling `frame.insert` many times, which has poor performance.  Consider joining all columns at once using pd.concat(axis=1) instead. To get a de-fragmented frame, use `newframe = frame.copy()`\n",
      "  Morgan_test[\"fp{}\".format(j)] = test_fp[:,j]\n",
      "C:\\Users\\Yuhan\\AppData\\Local\\Temp\\ipykernel_131756\\1228905965.py:2: PerformanceWarning: DataFrame is highly fragmented.  This is usually the result of calling `frame.insert` many times, which has poor performance.  Consider joining all columns at once using pd.concat(axis=1) instead. To get a de-fragmented frame, use `newframe = frame.copy()`\n",
      "  Morgan_test[\"fp{}\".format(j)] = test_fp[:,j]\n",
      "C:\\Users\\Yuhan\\AppData\\Local\\Temp\\ipykernel_131756\\1228905965.py:2: PerformanceWarning: DataFrame is highly fragmented.  This is usually the result of calling `frame.insert` many times, which has poor performance.  Consider joining all columns at once using pd.concat(axis=1) instead. To get a de-fragmented frame, use `newframe = frame.copy()`\n",
      "  Morgan_test[\"fp{}\".format(j)] = test_fp[:,j]\n",
      "C:\\Users\\Yuhan\\AppData\\Local\\Temp\\ipykernel_131756\\1228905965.py:2: PerformanceWarning: DataFrame is highly fragmented.  This is usually the result of calling `frame.insert` many times, which has poor performance.  Consider joining all columns at once using pd.concat(axis=1) instead. To get a de-fragmented frame, use `newframe = frame.copy()`\n",
      "  Morgan_test[\"fp{}\".format(j)] = test_fp[:,j]\n",
      "C:\\Users\\Yuhan\\AppData\\Local\\Temp\\ipykernel_131756\\1228905965.py:2: PerformanceWarning: DataFrame is highly fragmented.  This is usually the result of calling `frame.insert` many times, which has poor performance.  Consider joining all columns at once using pd.concat(axis=1) instead. To get a de-fragmented frame, use `newframe = frame.copy()`\n",
      "  Morgan_test[\"fp{}\".format(j)] = test_fp[:,j]\n",
      "C:\\Users\\Yuhan\\AppData\\Local\\Temp\\ipykernel_131756\\1228905965.py:2: PerformanceWarning: DataFrame is highly fragmented.  This is usually the result of calling `frame.insert` many times, which has poor performance.  Consider joining all columns at once using pd.concat(axis=1) instead. To get a de-fragmented frame, use `newframe = frame.copy()`\n",
      "  Morgan_test[\"fp{}\".format(j)] = test_fp[:,j]\n",
      "C:\\Users\\Yuhan\\AppData\\Local\\Temp\\ipykernel_131756\\1228905965.py:2: PerformanceWarning: DataFrame is highly fragmented.  This is usually the result of calling `frame.insert` many times, which has poor performance.  Consider joining all columns at once using pd.concat(axis=1) instead. To get a de-fragmented frame, use `newframe = frame.copy()`\n",
      "  Morgan_test[\"fp{}\".format(j)] = test_fp[:,j]\n",
      "C:\\Users\\Yuhan\\AppData\\Local\\Temp\\ipykernel_131756\\1228905965.py:2: PerformanceWarning: DataFrame is highly fragmented.  This is usually the result of calling `frame.insert` many times, which has poor performance.  Consider joining all columns at once using pd.concat(axis=1) instead. To get a de-fragmented frame, use `newframe = frame.copy()`\n",
      "  Morgan_test[\"fp{}\".format(j)] = test_fp[:,j]\n",
      "C:\\Users\\Yuhan\\AppData\\Local\\Temp\\ipykernel_131756\\1228905965.py:2: PerformanceWarning: DataFrame is highly fragmented.  This is usually the result of calling `frame.insert` many times, which has poor performance.  Consider joining all columns at once using pd.concat(axis=1) instead. To get a de-fragmented frame, use `newframe = frame.copy()`\n",
      "  Morgan_test[\"fp{}\".format(j)] = test_fp[:,j]\n",
      "C:\\Users\\Yuhan\\AppData\\Local\\Temp\\ipykernel_131756\\1228905965.py:2: PerformanceWarning: DataFrame is highly fragmented.  This is usually the result of calling `frame.insert` many times, which has poor performance.  Consider joining all columns at once using pd.concat(axis=1) instead. To get a de-fragmented frame, use `newframe = frame.copy()`\n",
      "  Morgan_test[\"fp{}\".format(j)] = test_fp[:,j]\n",
      "C:\\Users\\Yuhan\\AppData\\Local\\Temp\\ipykernel_131756\\1228905965.py:2: PerformanceWarning: DataFrame is highly fragmented.  This is usually the result of calling `frame.insert` many times, which has poor performance.  Consider joining all columns at once using pd.concat(axis=1) instead. To get a de-fragmented frame, use `newframe = frame.copy()`\n",
      "  Morgan_test[\"fp{}\".format(j)] = test_fp[:,j]\n",
      "C:\\Users\\Yuhan\\AppData\\Local\\Temp\\ipykernel_131756\\1228905965.py:2: PerformanceWarning: DataFrame is highly fragmented.  This is usually the result of calling `frame.insert` many times, which has poor performance.  Consider joining all columns at once using pd.concat(axis=1) instead. To get a de-fragmented frame, use `newframe = frame.copy()`\n",
      "  Morgan_test[\"fp{}\".format(j)] = test_fp[:,j]\n",
      "C:\\Users\\Yuhan\\AppData\\Local\\Temp\\ipykernel_131756\\1228905965.py:2: PerformanceWarning: DataFrame is highly fragmented.  This is usually the result of calling `frame.insert` many times, which has poor performance.  Consider joining all columns at once using pd.concat(axis=1) instead. To get a de-fragmented frame, use `newframe = frame.copy()`\n",
      "  Morgan_test[\"fp{}\".format(j)] = test_fp[:,j]\n",
      "C:\\Users\\Yuhan\\AppData\\Local\\Temp\\ipykernel_131756\\1228905965.py:2: PerformanceWarning: DataFrame is highly fragmented.  This is usually the result of calling `frame.insert` many times, which has poor performance.  Consider joining all columns at once using pd.concat(axis=1) instead. To get a de-fragmented frame, use `newframe = frame.copy()`\n",
      "  Morgan_test[\"fp{}\".format(j)] = test_fp[:,j]\n",
      "C:\\Users\\Yuhan\\AppData\\Local\\Temp\\ipykernel_131756\\1228905965.py:2: PerformanceWarning: DataFrame is highly fragmented.  This is usually the result of calling `frame.insert` many times, which has poor performance.  Consider joining all columns at once using pd.concat(axis=1) instead. To get a de-fragmented frame, use `newframe = frame.copy()`\n",
      "  Morgan_test[\"fp{}\".format(j)] = test_fp[:,j]\n",
      "C:\\Users\\Yuhan\\AppData\\Local\\Temp\\ipykernel_131756\\1228905965.py:2: PerformanceWarning: DataFrame is highly fragmented.  This is usually the result of calling `frame.insert` many times, which has poor performance.  Consider joining all columns at once using pd.concat(axis=1) instead. To get a de-fragmented frame, use `newframe = frame.copy()`\n",
      "  Morgan_test[\"fp{}\".format(j)] = test_fp[:,j]\n",
      "C:\\Users\\Yuhan\\AppData\\Local\\Temp\\ipykernel_131756\\1228905965.py:2: PerformanceWarning: DataFrame is highly fragmented.  This is usually the result of calling `frame.insert` many times, which has poor performance.  Consider joining all columns at once using pd.concat(axis=1) instead. To get a de-fragmented frame, use `newframe = frame.copy()`\n",
      "  Morgan_test[\"fp{}\".format(j)] = test_fp[:,j]\n",
      "C:\\Users\\Yuhan\\AppData\\Local\\Temp\\ipykernel_131756\\1228905965.py:2: PerformanceWarning: DataFrame is highly fragmented.  This is usually the result of calling `frame.insert` many times, which has poor performance.  Consider joining all columns at once using pd.concat(axis=1) instead. To get a de-fragmented frame, use `newframe = frame.copy()`\n",
      "  Morgan_test[\"fp{}\".format(j)] = test_fp[:,j]\n",
      "C:\\Users\\Yuhan\\AppData\\Local\\Temp\\ipykernel_131756\\1228905965.py:2: PerformanceWarning: DataFrame is highly fragmented.  This is usually the result of calling `frame.insert` many times, which has poor performance.  Consider joining all columns at once using pd.concat(axis=1) instead. To get a de-fragmented frame, use `newframe = frame.copy()`\n",
      "  Morgan_test[\"fp{}\".format(j)] = test_fp[:,j]\n",
      "C:\\Users\\Yuhan\\AppData\\Local\\Temp\\ipykernel_131756\\1228905965.py:2: PerformanceWarning: DataFrame is highly fragmented.  This is usually the result of calling `frame.insert` many times, which has poor performance.  Consider joining all columns at once using pd.concat(axis=1) instead. To get a de-fragmented frame, use `newframe = frame.copy()`\n",
      "  Morgan_test[\"fp{}\".format(j)] = test_fp[:,j]\n"
     ]
    }
   ],
   "source": [
    "for j in range(test_fp.shape[1]):\n",
    "    Morgan_test[\"fp{}\".format(j)] = test_fp[:,j]\n",
    "Morgan_test.drop(columns=[\"INDEX\", \"SMILES\", \"mol\"], inplace = True)"
   ]
  },
  {
   "cell_type": "code",
   "execution_count": 66,
   "id": "6b103918",
   "metadata": {},
   "outputs": [
    {
     "name": "stdout",
     "output_type": "stream",
     "text": [
      "        ACTIVE  fp0  fp1  fp2  fp3  fp4  fp5  fp6  fp7  fp8  ...  fp114  \\\n",
      "0          0.0  0.0  0.0  0.0  1.0  0.0  0.0  0.0  0.0  0.0  ...    0.0   \n",
      "1          0.0  0.0  0.0  0.0  1.0  0.0  1.0  0.0  0.0  0.0  ...    0.0   \n",
      "2          0.0  0.0  0.0  0.0  1.0  0.0  1.0  0.0  1.0  0.0  ...    1.0   \n",
      "3          0.0  0.0  0.0  0.0  0.0  0.0  1.0  0.0  0.0  0.0  ...    0.0   \n",
      "4          0.0  0.0  1.0  1.0  0.0  0.0  0.0  0.0  0.0  0.0  ...    0.0   \n",
      "...        ...  ...  ...  ...  ...  ...  ...  ...  ...  ...  ...    ...   \n",
      "156253     0.0  0.0  0.0  1.0  0.0  0.0  1.0  0.0  1.0  1.0  ...    0.0   \n",
      "156254     0.0  0.0  0.0  1.0  0.0  1.0  1.0  0.0  0.0  0.0  ...    0.0   \n",
      "156255     0.0  0.0  0.0  0.0  1.0  0.0  0.0  0.0  0.0  0.0  ...    0.0   \n",
      "156256     0.0  0.0  0.0  1.0  0.0  0.0  1.0  0.0  0.0  0.0  ...    0.0   \n",
      "156257     0.0  0.0  0.0  1.0  0.0  0.0  1.0  0.0  0.0  0.0  ...    0.0   \n",
      "\n",
      "        fp115  fp116  fp117  fp118  fp119  fp120  fp121  fp122  fp123  \n",
      "0         0.0    0.0    0.0    0.0    0.0    0.0    0.0    1.0    0.0  \n",
      "1         0.0    0.0    0.0    0.0    0.0    0.0    0.0    1.0    0.0  \n",
      "2         0.0    0.0    0.0    0.0    0.0    0.0    0.0    1.0    0.0  \n",
      "3         0.0    0.0    0.0    0.0    0.0    0.0    0.0    1.0    0.0  \n",
      "4         0.0    0.0    0.0    0.0    0.0    0.0    0.0    1.0    0.0  \n",
      "...       ...    ...    ...    ...    ...    ...    ...    ...    ...  \n",
      "156253    1.0    0.0    0.0    0.0    0.0    1.0    0.0    1.0    0.0  \n",
      "156254    0.0    0.0    0.0    0.0    0.0    0.0    0.0    1.0    0.0  \n",
      "156255    0.0    0.0    0.0    0.0    0.0    0.0    0.0    1.0    0.0  \n",
      "156256    0.0    0.0    0.0    0.0    0.0    0.0    0.0    1.0    0.0  \n",
      "156257    0.0    0.0    0.0    0.0    0.0    0.0    0.0    1.0    0.0  \n",
      "\n",
      "[156258 rows x 125 columns]\n"
     ]
    }
   ],
   "source": [
    "print(Morgan_train)"
   ]
  },
  {
   "cell_type": "code",
   "execution_count": 67,
   "id": "5d64d539",
   "metadata": {},
   "outputs": [
    {
     "name": "stdout",
     "output_type": "stream",
     "text": [
      "       fp0  fp1  fp2  fp3  fp4  fp5  fp6  fp7  fp8  fp9  ...  fp114  fp115  \\\n",
      "0      0.0  0.0  0.0  0.0  0.0  0.0  0.0  0.0  1.0  1.0  ...    0.0    0.0   \n",
      "1      0.0  0.0  0.0  0.0  0.0  1.0  0.0  0.0  0.0  0.0  ...    0.0    0.0   \n",
      "2      0.0  0.0  1.0  0.0  0.0  0.0  0.0  0.0  0.0  0.0  ...    0.0    0.0   \n",
      "3      0.0  0.0  0.0  0.0  0.0  1.0  0.0  0.0  0.0  0.0  ...    0.0    0.0   \n",
      "4      0.0  0.0  1.0  0.0  1.0  1.0  0.0  0.0  0.0  0.0  ...    0.0    0.0   \n",
      "...    ...  ...  ...  ...  ...  ...  ...  ...  ...  ...  ...    ...    ...   \n",
      "52081  1.0  0.0  1.0  0.0  0.0  1.0  0.0  0.0  0.0  0.0  ...    0.0    0.0   \n",
      "52082  0.0  0.0  0.0  0.0  0.0  0.0  0.0  0.0  0.0  0.0  ...    0.0    0.0   \n",
      "52083  0.0  0.0  0.0  0.0  0.0  1.0  0.0  0.0  0.0  0.0  ...    0.0    0.0   \n",
      "52084  0.0  0.0  0.0  0.0  1.0  1.0  0.0  1.0  0.0  0.0  ...    0.0    0.0   \n",
      "52085  0.0  0.0  0.0  0.0  0.0  0.0  0.0  0.0  0.0  0.0  ...    0.0    0.0   \n",
      "\n",
      "       fp116  fp117  fp118  fp119  fp120  fp121  fp122  fp123  \n",
      "0        0.0    0.0    0.0    0.0    0.0    0.0    1.0    0.0  \n",
      "1        0.0    0.0    0.0    1.0    1.0    0.0    1.0    0.0  \n",
      "2        0.0    0.0    0.0    0.0    0.0    0.0    1.0    0.0  \n",
      "3        0.0    0.0    0.0    0.0    0.0    0.0    1.0    0.0  \n",
      "4        0.0    0.0    0.0    0.0    0.0    1.0    1.0    0.0  \n",
      "...      ...    ...    ...    ...    ...    ...    ...    ...  \n",
      "52081    1.0    0.0    0.0    0.0    0.0    0.0    1.0    0.0  \n",
      "52082    0.0    0.0    0.0    0.0    0.0    1.0    1.0    0.0  \n",
      "52083    0.0    0.0    1.0    0.0    0.0    0.0    1.0    0.0  \n",
      "52084    0.0    0.0    0.0    0.0    1.0    1.0    1.0    0.0  \n",
      "52085    0.0    0.0    0.0    0.0    0.0    0.0    1.0    0.0  \n",
      "\n",
      "[52086 rows x 124 columns]\n"
     ]
    }
   ],
   "source": [
    "print(Morgan_test)"
   ]
  },
  {
   "cell_type": "markdown",
   "id": "2fe0f30b",
   "metadata": {},
   "source": [
    "# 4. Save Feature Sets into csv Files"
   ]
  },
  {
   "cell_type": "code",
   "execution_count": 68,
   "id": "5b8318ac",
   "metadata": {},
   "outputs": [],
   "source": [
    "Morgan_train.to_csv(\"Morgan_train.csv\")"
   ]
  },
  {
   "cell_type": "code",
   "execution_count": 69,
   "id": "96417816",
   "metadata": {},
   "outputs": [],
   "source": [
    "Morgan_test.to_csv(\"Morgan_test.csv\")"
   ]
  }
 ],
 "metadata": {
  "kernelspec": {
   "display_name": "Python 3 (ipykernel)",
   "language": "python",
   "name": "python3"
  },
  "language_info": {
   "codemirror_mode": {
    "name": "ipython",
    "version": 3
   },
   "file_extension": ".py",
   "mimetype": "text/x-python",
   "name": "python",
   "nbconvert_exporter": "python",
   "pygments_lexer": "ipython3",
   "version": "3.9.12"
  }
 },
 "nbformat": 4,
 "nbformat_minor": 5
}
